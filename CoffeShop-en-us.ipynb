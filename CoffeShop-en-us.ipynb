{
 "cells": [
  {
   "cell_type": "markdown",
   "metadata": {},
   "source": [
    "# Initialization"
   ]
  },
  {
   "cell_type": "code",
   "execution_count": 22,
   "metadata": {},
   "outputs": [],
   "source": [
    "# Loading the libraries\n",
    "import pandas as pd\n",
    "import matplotlib.pyplot as plt\n",
    "import seaborn as sns"
   ]
  },
  {
   "cell_type": "markdown",
   "metadata": {},
   "source": [
    "# Loading the dataset"
   ]
  },
  {
   "cell_type": "code",
   "execution_count": 23,
   "metadata": {},
   "outputs": [],
   "source": [
    "# Loading the data of rest_data_us_upd\n",
    "df_data = pd.read_csv('rest_data_us_upd.csv')"
   ]
  },
  {
   "cell_type": "code",
   "execution_count": 24,
   "metadata": {},
   "outputs": [
    {
     "data": {
      "text/html": [
       "<div>\n",
       "<style scoped>\n",
       "    .dataframe tbody tr th:only-of-type {\n",
       "        vertical-align: middle;\n",
       "    }\n",
       "\n",
       "    .dataframe tbody tr th {\n",
       "        vertical-align: top;\n",
       "    }\n",
       "\n",
       "    .dataframe thead th {\n",
       "        text-align: right;\n",
       "    }\n",
       "</style>\n",
       "<table border=\"1\" class=\"dataframe\">\n",
       "  <thead>\n",
       "    <tr style=\"text-align: right;\">\n",
       "      <th></th>\n",
       "      <th>id</th>\n",
       "      <th>object_name</th>\n",
       "      <th>address</th>\n",
       "      <th>chain</th>\n",
       "      <th>object_type</th>\n",
       "      <th>number</th>\n",
       "    </tr>\n",
       "  </thead>\n",
       "  <tbody>\n",
       "    <tr>\n",
       "      <th>0</th>\n",
       "      <td>11786</td>\n",
       "      <td>HABITAT COFFEE SHOP</td>\n",
       "      <td>3708 N EAGLE ROCK BLVD</td>\n",
       "      <td>False</td>\n",
       "      <td>Cafe</td>\n",
       "      <td>26</td>\n",
       "    </tr>\n",
       "    <tr>\n",
       "      <th>1</th>\n",
       "      <td>11787</td>\n",
       "      <td>REILLY'S</td>\n",
       "      <td>100 WORLD WAY 120</td>\n",
       "      <td>False</td>\n",
       "      <td>Restaurant</td>\n",
       "      <td>9</td>\n",
       "    </tr>\n",
       "    <tr>\n",
       "      <th>2</th>\n",
       "      <td>11788</td>\n",
       "      <td>STREET CHURROS</td>\n",
       "      <td>6801 HOLLYWOOD BLVD 253</td>\n",
       "      <td>False</td>\n",
       "      <td>Fast Food</td>\n",
       "      <td>20</td>\n",
       "    </tr>\n",
       "    <tr>\n",
       "      <th>3</th>\n",
       "      <td>11789</td>\n",
       "      <td>TRINITI ECHO PARK</td>\n",
       "      <td>1814 W SUNSET BLVD</td>\n",
       "      <td>False</td>\n",
       "      <td>Restaurant</td>\n",
       "      <td>22</td>\n",
       "    </tr>\n",
       "    <tr>\n",
       "      <th>4</th>\n",
       "      <td>11790</td>\n",
       "      <td>POLLEN</td>\n",
       "      <td>2100 ECHO PARK AVE</td>\n",
       "      <td>False</td>\n",
       "      <td>Restaurant</td>\n",
       "      <td>20</td>\n",
       "    </tr>\n",
       "    <tr>\n",
       "      <th>...</th>\n",
       "      <td>...</td>\n",
       "      <td>...</td>\n",
       "      <td>...</td>\n",
       "      <td>...</td>\n",
       "      <td>...</td>\n",
       "      <td>...</td>\n",
       "    </tr>\n",
       "    <tr>\n",
       "      <th>9646</th>\n",
       "      <td>21432</td>\n",
       "      <td>HALL OF JUSTICE</td>\n",
       "      <td>217 W TEMPLE AVE</td>\n",
       "      <td>False</td>\n",
       "      <td>Restaurant</td>\n",
       "      <td>122</td>\n",
       "    </tr>\n",
       "    <tr>\n",
       "      <th>9647</th>\n",
       "      <td>21433</td>\n",
       "      <td>FIN-MELROSE</td>\n",
       "      <td>5750 MELROSE AVE</td>\n",
       "      <td>False</td>\n",
       "      <td>Restaurant</td>\n",
       "      <td>93</td>\n",
       "    </tr>\n",
       "    <tr>\n",
       "      <th>9648</th>\n",
       "      <td>21434</td>\n",
       "      <td>JUICY WINGZ</td>\n",
       "      <td>6741 HOLLYWOOD BLVD</td>\n",
       "      <td>True</td>\n",
       "      <td>Fast Food</td>\n",
       "      <td>15</td>\n",
       "    </tr>\n",
       "    <tr>\n",
       "      <th>9649</th>\n",
       "      <td>21435</td>\n",
       "      <td>MEDIDATE COFFEE</td>\n",
       "      <td>548 S SPRING ST STE 100</td>\n",
       "      <td>False</td>\n",
       "      <td>Cafe</td>\n",
       "      <td>6</td>\n",
       "    </tr>\n",
       "    <tr>\n",
       "      <th>9650</th>\n",
       "      <td>21436</td>\n",
       "      <td>CAFE SPROUTS</td>\n",
       "      <td>1300 S SAN PEDRO ST STE 111</td>\n",
       "      <td>True</td>\n",
       "      <td>Restaurant</td>\n",
       "      <td>19</td>\n",
       "    </tr>\n",
       "  </tbody>\n",
       "</table>\n",
       "<p>9651 rows × 6 columns</p>\n",
       "</div>"
      ],
      "text/plain": [
       "         id          object_name                      address  chain  \\\n",
       "0     11786  HABITAT COFFEE SHOP       3708 N EAGLE ROCK BLVD  False   \n",
       "1     11787             REILLY'S            100 WORLD WAY 120  False   \n",
       "2     11788       STREET CHURROS      6801 HOLLYWOOD BLVD 253  False   \n",
       "3     11789    TRINITI ECHO PARK           1814 W SUNSET BLVD  False   \n",
       "4     11790               POLLEN           2100 ECHO PARK AVE  False   \n",
       "...     ...                  ...                          ...    ...   \n",
       "9646  21432      HALL OF JUSTICE             217 W TEMPLE AVE  False   \n",
       "9647  21433          FIN-MELROSE             5750 MELROSE AVE  False   \n",
       "9648  21434          JUICY WINGZ          6741 HOLLYWOOD BLVD   True   \n",
       "9649  21435      MEDIDATE COFFEE      548 S SPRING ST STE 100  False   \n",
       "9650  21436         CAFE SPROUTS  1300 S SAN PEDRO ST STE 111   True   \n",
       "\n",
       "     object_type  number  \n",
       "0           Cafe      26  \n",
       "1     Restaurant       9  \n",
       "2      Fast Food      20  \n",
       "3     Restaurant      22  \n",
       "4     Restaurant      20  \n",
       "...          ...     ...  \n",
       "9646  Restaurant     122  \n",
       "9647  Restaurant      93  \n",
       "9648   Fast Food      15  \n",
       "9649        Cafe       6  \n",
       "9650  Restaurant      19  \n",
       "\n",
       "[9651 rows x 6 columns]"
      ]
     },
     "execution_count": 24,
     "metadata": {},
     "output_type": "execute_result"
    }
   ],
   "source": [
    "# Visualizing the data\n",
    "df_data"
   ]
  },
  {
   "cell_type": "markdown",
   "metadata": {},
   "source": [
    "# Preparing the data"
   ]
  },
  {
   "cell_type": "code",
   "execution_count": 25,
   "metadata": {
    "scrolled": true
   },
   "outputs": [
    {
     "name": "stdout",
     "output_type": "stream",
     "text": [
      "<class 'pandas.core.frame.DataFrame'>\n",
      "RangeIndex: 9651 entries, 0 to 9650\n",
      "Data columns (total 6 columns):\n",
      " #   Column       Non-Null Count  Dtype \n",
      "---  ------       --------------  ----- \n",
      " 0   id           9651 non-null   int64 \n",
      " 1   object_name  9651 non-null   object\n",
      " 2   address      9651 non-null   object\n",
      " 3   chain        9648 non-null   object\n",
      " 4   object_type  9651 non-null   object\n",
      " 5   number       9651 non-null   int64 \n",
      "dtypes: int64(2), object(4)\n",
      "memory usage: 452.5+ KB\n"
     ]
    }
   ],
   "source": [
    "df_data.info() # Visualizing the data type"
   ]
  },
  {
   "cell_type": "markdown",
   "metadata": {},
   "source": [
    "Note:\n",
    "You have identified missing values in the 'chain' column."
   ]
  },
  {
   "cell_type": "code",
   "execution_count": 26,
   "metadata": {
    "scrolled": false
   },
   "outputs": [
    {
     "data": {
      "text/plain": [
       "id             0\n",
       "object_name    0\n",
       "address        0\n",
       "chain          3\n",
       "object_type    0\n",
       "number         0\n",
       "dtype: int64"
      ]
     },
     "execution_count": 26,
     "metadata": {},
     "output_type": "execute_result"
    }
   ],
   "source": [
    "df_data.isnull().sum() # checking for missing values"
   ]
  },
  {
   "cell_type": "markdown",
   "metadata": {},
   "source": [
    "Observation:\n",
    "Three missing data points were found in the 'chain' column."
   ]
  },
  {
   "cell_type": "code",
   "execution_count": 27,
   "metadata": {},
   "outputs": [],
   "source": [
    "df_data['chain'].fillna(False, inplace=True)"
   ]
  },
  {
   "cell_type": "markdown",
   "metadata": {},
   "source": [
    "Note:\n",
    "You replaced the missing values in the 'chain' column with 'False' due to the small number of missing data and because your analysis showed that non-chain establishments are more prevalent."
   ]
  },
  {
   "cell_type": "code",
   "execution_count": 28,
   "metadata": {},
   "outputs": [
    {
     "name": "stdout",
     "output_type": "stream",
     "text": [
      "<class 'pandas.core.frame.DataFrame'>\n",
      "RangeIndex: 9651 entries, 0 to 9650\n",
      "Data columns (total 6 columns):\n",
      " #   Column       Non-Null Count  Dtype \n",
      "---  ------       --------------  ----- \n",
      " 0   id           9651 non-null   int64 \n",
      " 1   object_name  9651 non-null   object\n",
      " 2   address      9651 non-null   object\n",
      " 3   chain        9651 non-null   bool  \n",
      " 4   object_type  9651 non-null   object\n",
      " 5   number       9651 non-null   int64 \n",
      "dtypes: bool(1), int64(2), object(3)\n",
      "memory usage: 386.5+ KB\n"
     ]
    }
   ],
   "source": [
    "# Checking if all data is filled\n",
    "df_data.info()"
   ]
  },
  {
   "cell_type": "markdown",
   "metadata": {},
   "source": [
    "# Data analysis"
   ]
  },
  {
   "cell_type": "code",
   "execution_count": 29,
   "metadata": {
    "scrolled": true
   },
   "outputs": [
    {
     "data": {
      "text/html": [
       "<div>\n",
       "<style scoped>\n",
       "    .dataframe tbody tr th:only-of-type {\n",
       "        vertical-align: middle;\n",
       "    }\n",
       "\n",
       "    .dataframe tbody tr th {\n",
       "        vertical-align: top;\n",
       "    }\n",
       "\n",
       "    .dataframe thead th {\n",
       "        text-align: right;\n",
       "    }\n",
       "</style>\n",
       "<table border=\"1\" class=\"dataframe\">\n",
       "  <thead>\n",
       "    <tr style=\"text-align: right;\">\n",
       "      <th></th>\n",
       "      <th>id</th>\n",
       "      <th>object_name</th>\n",
       "      <th>address</th>\n",
       "      <th>chain</th>\n",
       "      <th>object_type</th>\n",
       "      <th>number</th>\n",
       "    </tr>\n",
       "  </thead>\n",
       "  <tbody>\n",
       "    <tr>\n",
       "      <th>0</th>\n",
       "      <td>11786</td>\n",
       "      <td>HABITAT COFFEE SHOP</td>\n",
       "      <td>3708 N EAGLE ROCK BLVD</td>\n",
       "      <td>False</td>\n",
       "      <td>Cafe</td>\n",
       "      <td>26</td>\n",
       "    </tr>\n",
       "    <tr>\n",
       "      <th>1</th>\n",
       "      <td>11787</td>\n",
       "      <td>REILLY'S</td>\n",
       "      <td>100 WORLD WAY 120</td>\n",
       "      <td>False</td>\n",
       "      <td>Restaurant</td>\n",
       "      <td>9</td>\n",
       "    </tr>\n",
       "    <tr>\n",
       "      <th>2</th>\n",
       "      <td>11788</td>\n",
       "      <td>STREET CHURROS</td>\n",
       "      <td>6801 HOLLYWOOD BLVD 253</td>\n",
       "      <td>False</td>\n",
       "      <td>Fast Food</td>\n",
       "      <td>20</td>\n",
       "    </tr>\n",
       "    <tr>\n",
       "      <th>3</th>\n",
       "      <td>11789</td>\n",
       "      <td>TRINITI ECHO PARK</td>\n",
       "      <td>1814 W SUNSET BLVD</td>\n",
       "      <td>False</td>\n",
       "      <td>Restaurant</td>\n",
       "      <td>22</td>\n",
       "    </tr>\n",
       "    <tr>\n",
       "      <th>4</th>\n",
       "      <td>11790</td>\n",
       "      <td>POLLEN</td>\n",
       "      <td>2100 ECHO PARK AVE</td>\n",
       "      <td>False</td>\n",
       "      <td>Restaurant</td>\n",
       "      <td>20</td>\n",
       "    </tr>\n",
       "  </tbody>\n",
       "</table>\n",
       "</div>"
      ],
      "text/plain": [
       "      id          object_name                  address  chain object_type  \\\n",
       "0  11786  HABITAT COFFEE SHOP   3708 N EAGLE ROCK BLVD  False        Cafe   \n",
       "1  11787             REILLY'S        100 WORLD WAY 120  False  Restaurant   \n",
       "2  11788       STREET CHURROS  6801 HOLLYWOOD BLVD 253  False   Fast Food   \n",
       "3  11789    TRINITI ECHO PARK       1814 W SUNSET BLVD  False  Restaurant   \n",
       "4  11790               POLLEN       2100 ECHO PARK AVE  False  Restaurant   \n",
       "\n",
       "   number  \n",
       "0      26  \n",
       "1       9  \n",
       "2      20  \n",
       "3      22  \n",
       "4      20  "
      ]
     },
     "execution_count": 29,
     "metadata": {},
     "output_type": "execute_result"
    }
   ],
   "source": [
    "df_data.head()"
   ]
  },
  {
   "cell_type": "code",
   "execution_count": 30,
   "metadata": {
    "scrolled": false
   },
   "outputs": [
    {
     "data": {
      "image/png": "[encoded data removed]",
      "text/plain": [
       "<Figure size 1200x600 with 1 Axes>"
      ]
     },
     "metadata": {},
     "output_type": "display_data"
    }
   ],
   "source": [
    "# Creating the proportion count\n",
    "type_counts = df_data['object_type'].value_counts(normalize=True) * 100\n",
    "\n",
    "# Converting to a DataFrame for easier use with Seaborn\n",
    "type_counts_df = type_counts.reset_index()\n",
    "type_counts_df.columns = ['object_type', 'proportion']\n",
    "\n",
    "# Configuring the style\n",
    "sns.set(style=\"whitegrid\")\n",
    "\n",
    "# Building the chart\n",
    "plt.figure(figsize=(12, 6))\n",
    "sns.barplot(x='object_type', y='proportion', data=type_counts_df, palette='viridis', edgecolor='#000000')\n",
    "plt.title('Proporções dos Tipos de Estabelecimentos')\n",
    "plt.xlabel('Tipo de Estabelecimento')\n",
    "plt.ylabel('Proporção (%)')\n",
    "plt.xticks(rotation=45)\n",
    "plt.grid(axis='y', linestyle='--', linewidth=0.8)\n",
    "plt.show()\n"
   ]
  },
  {
   "cell_type": "markdown",
   "metadata": {},
   "source": [
    "Note:\n",
    "By observing the proportions of the types of establishments, we can see that the majority of the establishments are restaurants."
   ]
  },
  {
   "cell_type": "code",
   "execution_count": 31,
   "metadata": {
    "scrolled": false
   },
   "outputs": [
    {
     "data": {
      "image/png": "[encoded data removed]",
      "text/plain": [
       "<Figure size 1000x700 with 1 Axes>"
      ]
     },
     "metadata": {},
     "output_type": "display_data"
    }
   ],
   "source": [
    "# Investigate the proportions of chain and non-chain establishments. Build a chart.\n",
    "\n",
    "chain_count = df_data['chain'].value_counts().reset_index()\n",
    "chain_count.columns = ['chain', 'count']\n",
    "chain_count['chain'] = chain_count['chain'].map({False: 'Não Rede', True: 'Rede'})\n",
    "\n",
    "# Configuring the Seaborn style\n",
    "sns.set(style=\"whitegrid\")\n",
    "\n",
    "# Plotting the bar chart with Seaborn\n",
    "plt.figure(figsize=(10, 7))\n",
    "ax = sns.barplot(x='chain', y='count', data=chain_count, palette=['#FF796C', '#66b3ff'])\n",
    "ax.set_title('Proporção de Estabelecimentos de Rede e Não Rede')\n",
    "ax.set_xlabel('Tipo de Estabelecimento')\n",
    "ax.set_ylabel('Número de Estabelecimentos')\n",
    "plt.grid(axis='y', linestyle='--', linewidth=0.5)\n",
    "plt.show()"
   ]
  },
  {
   "cell_type": "code",
   "execution_count": 32,
   "metadata": {},
   "outputs": [
    {
     "data": {
      "text/html": [
       "<div>\n",
       "<style scoped>\n",
       "    .dataframe tbody tr th:only-of-type {\n",
       "        vertical-align: middle;\n",
       "    }\n",
       "\n",
       "    .dataframe tbody tr th {\n",
       "        vertical-align: top;\n",
       "    }\n",
       "\n",
       "    .dataframe thead th {\n",
       "        text-align: right;\n",
       "    }\n",
       "</style>\n",
       "<table border=\"1\" class=\"dataframe\">\n",
       "  <thead>\n",
       "    <tr style=\"text-align: right;\">\n",
       "      <th></th>\n",
       "      <th>chain</th>\n",
       "      <th>count</th>\n",
       "    </tr>\n",
       "  </thead>\n",
       "  <tbody>\n",
       "    <tr>\n",
       "      <th>0</th>\n",
       "      <td>Não Rede</td>\n",
       "      <td>5975</td>\n",
       "    </tr>\n",
       "    <tr>\n",
       "      <th>1</th>\n",
       "      <td>Rede</td>\n",
       "      <td>3676</td>\n",
       "    </tr>\n",
       "  </tbody>\n",
       "</table>\n",
       "</div>"
      ],
      "text/plain": [
       "      chain  count\n",
       "0  Não Rede   5975\n",
       "1      Rede   3676"
      ]
     },
     "execution_count": 32,
     "metadata": {},
     "output_type": "execute_result"
    }
   ],
   "source": [
    "chain_count"
   ]
  },
  {
   "cell_type": "markdown",
   "metadata": {},
   "source": [
    "Note:\n",
    "After investigating the proportions, we can observe that there are fewer chain establishments."
   ]
  },
  {
   "cell_type": "code",
   "execution_count": 33,
   "metadata": {
    "scrolled": true
   },
   "outputs": [
    {
     "data": {
      "text/plain": [
       "object_type\n",
       "Restaurant    2292\n",
       "Fast Food      605\n",
       "Bakery         283\n",
       "Cafe           266\n",
       "Pizza          153\n",
       "Bar             77\n",
       "Name: count, dtype: int64"
      ]
     },
     "execution_count": 33,
     "metadata": {},
     "output_type": "execute_result"
    }
   ],
   "source": [
    "# What type of establishment is typical for chains?\n",
    "\n",
    "# Defining chain-type establishments\n",
    "redes = df_data[df_data['chain'] == True]\n",
    "\n",
    "# Counting chain establishments\n",
    "tipo_estabelecimento_redes = redes['object_type'].value_counts()\n",
    "tipo_estabelecimento_redes"
   ]
  },
  {
   "cell_type": "code",
   "execution_count": 34,
   "metadata": {
    "scrolled": true
   },
   "outputs": [
    {
     "data": {
      "text/plain": [
       "object_type\n",
       "Restaurant    4963\n",
       "Fast Food      461\n",
       "Bar            215\n",
       "Cafe           169\n",
       "Pizza          167\n",
       "Name: count, dtype: int64"
      ]
     },
     "execution_count": 34,
     "metadata": {},
     "output_type": "execute_result"
    }
   ],
   "source": [
    "# Defining non-chain-type establishments\n",
    "nao_redes = df_data[df_data['chain'] == False]\n",
    "\n",
    "# Counting non-chain establishments\n",
    "tipo_estabelecimento_nao_redes = nao_redes['object_type'].value_counts()\n",
    "tipo_estabelecimento_nao_redes"
   ]
  },
  {
   "cell_type": "code",
   "execution_count": 35,
   "metadata": {},
   "outputs": [
    {
     "data": {
      "image/png": "[encoded data removed]",
      "text/plain": [
       "<Figure size 1200x600 with 1 Axes>"
      ]
     },
     "metadata": {},
     "output_type": "display_data"
    }
   ],
   "source": [
    "# Converting a Series to a DataFrame\n",
    "if isinstance(tipo_estabelecimento_redes, pd.Series):\n",
    "    tipo_estabelecimento_redes = tipo_estabelecimento_redes.reset_index()\n",
    "    tipo_estabelecimento_redes.columns = ['tipo_estabelecimento', 'quantidade']\n",
    "\n",
    "# Configuring the Seaborn style\n",
    "sns.set(style=\"whitegrid\")\n",
    "\n",
    "# Plotting the bar chart with Seaborn\n",
    "plt.figure(figsize=(12, 6))\n",
    "ax = sns.barplot(x='tipo_estabelecimento', y='quantidade', data=tipo_estabelecimento_redes, color='#66b3ff', edgecolor='#000000')\n",
    "ax.set_title('Estabelecimentos de Rede')\n",
    "ax.set_xlabel('Tipo de Estabelecimento')\n",
    "ax.set_ylabel('Quantidade de Estabelecimentos')\n",
    "plt.xticks(rotation=45)\n",
    "plt.grid(axis='y', linestyle='--', linewidth=0.8)\n",
    "plt.show()"
   ]
  },
  {
   "cell_type": "code",
   "execution_count": 36,
   "metadata": {
    "scrolled": false
   },
   "outputs": [
    {
     "data": {
      "image/png": "[encoded data removed]",
      "text/plain": [
       "<Figure size 1200x600 with 1 Axes>"
      ]
     },
     "metadata": {},
     "output_type": "display_data"
    }
   ],
   "source": [
    "\n",
    "# Converting a Series to a DataFrame\n",
    "if isinstance(tipo_estabelecimento_nao_redes, pd.Series):\n",
    "    tipo_estabelecimento_nao_redes = tipo_estabelecimento_nao_redes.reset_index()\n",
    "    tipo_estabelecimento_nao_redes.columns = ['tipo_estabelecimento', 'quantidade']\n",
    "\n",
    "# Configuring the Seaborn style\n",
    "sns.set(style=\"whitegrid\")\n",
    "\n",
    "# Plotting the bar chart with Seaborn\n",
    "plt.figure(figsize=(12, 6))\n",
    "ax = sns.barplot(x='tipo_estabelecimento', y='quantidade', data=tipo_estabelecimento_nao_redes, color='#FF796C', edgecolor='#000000')\n",
    "ax.set_title('Estabelecimentos Não Rede')\n",
    "ax.set_xlabel('Tipo de Estabelecimento')\n",
    "ax.set_ylabel('Quantidade de Estabelecimentos')\n",
    "plt.xticks(rotation=45)\n",
    "plt.grid(axis='y', linestyle='--', linewidth=0.8)\n",
    "plt.show()"
   ]
  },
  {
   "cell_type": "code",
   "execution_count": 37,
   "metadata": {
    "scrolled": true
   },
   "outputs": [
    {
     "data": {
      "text/html": [
       "<div>\n",
       "<style scoped>\n",
       "    .dataframe tbody tr th:only-of-type {\n",
       "        vertical-align: middle;\n",
       "    }\n",
       "\n",
       "    .dataframe tbody tr th {\n",
       "        vertical-align: top;\n",
       "    }\n",
       "\n",
       "    .dataframe thead th {\n",
       "        text-align: right;\n",
       "    }\n",
       "</style>\n",
       "<table border=\"1\" class=\"dataframe\">\n",
       "  <thead>\n",
       "    <tr style=\"text-align: right;\">\n",
       "      <th></th>\n",
       "      <th>tipo_estabelecimento</th>\n",
       "      <th>quantidade</th>\n",
       "    </tr>\n",
       "  </thead>\n",
       "  <tbody>\n",
       "    <tr>\n",
       "      <th>0</th>\n",
       "      <td>Restaurant</td>\n",
       "      <td>4963</td>\n",
       "    </tr>\n",
       "    <tr>\n",
       "      <th>1</th>\n",
       "      <td>Fast Food</td>\n",
       "      <td>461</td>\n",
       "    </tr>\n",
       "    <tr>\n",
       "      <th>2</th>\n",
       "      <td>Bar</td>\n",
       "      <td>215</td>\n",
       "    </tr>\n",
       "    <tr>\n",
       "      <th>3</th>\n",
       "      <td>Cafe</td>\n",
       "      <td>169</td>\n",
       "    </tr>\n",
       "    <tr>\n",
       "      <th>4</th>\n",
       "      <td>Pizza</td>\n",
       "      <td>167</td>\n",
       "    </tr>\n",
       "  </tbody>\n",
       "</table>\n",
       "</div>"
      ],
      "text/plain": [
       "  tipo_estabelecimento  quantidade\n",
       "0           Restaurant        4963\n",
       "1            Fast Food         461\n",
       "2                  Bar         215\n",
       "3                 Cafe         169\n",
       "4                Pizza         167"
      ]
     },
     "execution_count": 37,
     "metadata": {},
     "output_type": "execute_result"
    }
   ],
   "source": [
    "tipo_estabelecimento_nao_redes"
   ]
  },
  {
   "cell_type": "code",
   "execution_count": 38,
   "metadata": {
    "scrolled": true
   },
   "outputs": [
    {
     "data": {
      "text/html": [
       "<div>\n",
       "<style scoped>\n",
       "    .dataframe tbody tr th:only-of-type {\n",
       "        vertical-align: middle;\n",
       "    }\n",
       "\n",
       "    .dataframe tbody tr th {\n",
       "        vertical-align: top;\n",
       "    }\n",
       "\n",
       "    .dataframe thead th {\n",
       "        text-align: right;\n",
       "    }\n",
       "</style>\n",
       "<table border=\"1\" class=\"dataframe\">\n",
       "  <thead>\n",
       "    <tr style=\"text-align: right;\">\n",
       "      <th></th>\n",
       "      <th>tipo_estabelecimento</th>\n",
       "      <th>quantidade</th>\n",
       "    </tr>\n",
       "  </thead>\n",
       "  <tbody>\n",
       "    <tr>\n",
       "      <th>0</th>\n",
       "      <td>Restaurant</td>\n",
       "      <td>2292</td>\n",
       "    </tr>\n",
       "    <tr>\n",
       "      <th>1</th>\n",
       "      <td>Fast Food</td>\n",
       "      <td>605</td>\n",
       "    </tr>\n",
       "    <tr>\n",
       "      <th>2</th>\n",
       "      <td>Bakery</td>\n",
       "      <td>283</td>\n",
       "    </tr>\n",
       "    <tr>\n",
       "      <th>3</th>\n",
       "      <td>Cafe</td>\n",
       "      <td>266</td>\n",
       "    </tr>\n",
       "    <tr>\n",
       "      <th>4</th>\n",
       "      <td>Pizza</td>\n",
       "      <td>153</td>\n",
       "    </tr>\n",
       "    <tr>\n",
       "      <th>5</th>\n",
       "      <td>Bar</td>\n",
       "      <td>77</td>\n",
       "    </tr>\n",
       "  </tbody>\n",
       "</table>\n",
       "</div>"
      ],
      "text/plain": [
       "  tipo_estabelecimento  quantidade\n",
       "0           Restaurant        2292\n",
       "1            Fast Food         605\n",
       "2               Bakery         283\n",
       "3                 Cafe         266\n",
       "4                Pizza         153\n",
       "5                  Bar          77"
      ]
     },
     "execution_count": 38,
     "metadata": {},
     "output_type": "execute_result"
    }
   ],
   "source": [
    "tipo_estabelecimento_redes"
   ]
  },
  {
   "cell_type": "markdown",
   "metadata": {},
   "source": [
    "Note:\n",
    "Restaurants are the most common type for chain establishments, followed by fast food, bakeries, and cafeterias.\n",
    "\n",
    "Note:\n",
    "Restaurants are the most common type for non-chain establishments, followed by fast food, bars, cafeterias, and pizzerias."
   ]
  },
  {
   "cell_type": "code",
   "execution_count": 39,
   "metadata": {},
   "outputs": [
    {
     "name": "stdout",
     "output_type": "stream",
     "text": [
      "Média de assentos por estabelecimentos de redes: 39.69\n",
      "Média de assentos por estabelecimentos não redes: 46.16\n"
     ]
    }
   ],
   "source": [
    "# What characterizes chains: Many establishments with a small number of seats, or few establishments with many seats?\n",
    "\n",
    "number_redes = redes['number'].mean()\n",
    "number_n_redes = nao_redes['number'].mean()\n",
    "print(f\"Média de assentos por estabelecimentos de redes: {number_redes:.2f}\")\n",
    "print(f\"Média de assentos por estabelecimentos não redes: {number_n_redes:.2f}\")"
   ]
  },
  {
   "cell_type": "markdown",
   "metadata": {},
   "source": [
    "Note:\n",
    "After looking at the average number of seats per establishment, we can characterize chains as having many establishments with a small number of seats."
   ]
  },
  {
   "cell_type": "code",
   "execution_count": 40,
   "metadata": {
    "scrolled": false
   },
   "outputs": [
    {
     "name": "stdout",
     "output_type": "stream",
     "text": [
      "object_type\n",
      "Restaurant    48.042316\n",
      "Bar           44.767123\n",
      "Fast Food     31.837711\n",
      "Pizza         28.459375\n",
      "Cafe          25.000000\n",
      "Bakery        21.773852\n",
      "Name: number, dtype: float64\n",
      "O tipo de estabelecimento com maior média de assentos é o Restaurant com uma média de assentos de 48.04%\n"
     ]
    }
   ],
   "source": [
    "# Determine the average number of seats for each type of restaurant.\n",
    "# On average, which type of restaurant has the largest number of seats? Build charts.\n",
    "\n",
    "# Grouping by the average number of seats for each type of establishment\n",
    "mean_seats = df_data.groupby('object_type')['number'].mean().sort_values(ascending=False)\n",
    "print(mean_seats)\n",
    "\n",
    "type_mean_seats = mean_seats.idxmax()\n",
    "max_mean_seats = mean_seats.max()\n",
    "\n",
    "\n",
    "print(f\"O tipo de estabelecimento com maior média de assentos é o {type_mean_seats} com uma média de assentos de {max_mean_seats:.2f}%\")"
   ]
  },
  {
   "cell_type": "code",
   "execution_count": 41,
   "metadata": {
    "scrolled": false
   },
   "outputs": [
    {
     "data": {
      "image/png": "[encoded data removed]",
      "text/plain": [
       "<Figure size 1200x800 with 1 Axes>"
      ]
     },
     "metadata": {},
     "output_type": "display_data"
    }
   ],
   "source": [
    "# Converting mean_seats to a DataFrame\n",
    "if isinstance(mean_seats, pd.Series):\n",
    "    mean_seats = mean_seats.reset_index()\n",
    "    mean_seats.columns = ['tipo_estabelecimento', 'numero_medio_de_assentos']\n",
    "\n",
    "# Configuring the Seaborn style\n",
    "sns.set(style=\"whitegrid\")\n",
    "\n",
    "# Plotting the bar chart with Seaborn\n",
    "plt.figure(figsize=(12, 8))\n",
    "ax = sns.barplot(x='tipo_estabelecimento', y='numero_medio_de_assentos', data=mean_seats, color='#580F41')\n",
    "ax.set_title('Número Médio de Assentos por Tipo de Restaurante')\n",
    "ax.set_xlabel('Tipos de Estabelecimentos')\n",
    "ax.set_ylabel('Número Médio de Assentos')\n",
    "plt.xticks(rotation=45)\n",
    "plt.show()\n"
   ]
  },
  {
   "cell_type": "code",
   "execution_count": 42,
   "metadata": {
    "scrolled": false
   },
   "outputs": [
    {
     "data": {
      "text/html": [
       "<div>\n",
       "<style scoped>\n",
       "    .dataframe tbody tr th:only-of-type {\n",
       "        vertical-align: middle;\n",
       "    }\n",
       "\n",
       "    .dataframe tbody tr th {\n",
       "        vertical-align: top;\n",
       "    }\n",
       "\n",
       "    .dataframe thead th {\n",
       "        text-align: right;\n",
       "    }\n",
       "</style>\n",
       "<table border=\"1\" class=\"dataframe\">\n",
       "  <thead>\n",
       "    <tr style=\"text-align: right;\">\n",
       "      <th></th>\n",
       "      <th>id</th>\n",
       "      <th>object_name</th>\n",
       "      <th>address</th>\n",
       "      <th>chain</th>\n",
       "      <th>object_type</th>\n",
       "      <th>number</th>\n",
       "      <th>street_name</th>\n",
       "    </tr>\n",
       "  </thead>\n",
       "  <tbody>\n",
       "    <tr>\n",
       "      <th>0</th>\n",
       "      <td>11786</td>\n",
       "      <td>HABITAT COFFEE SHOP</td>\n",
       "      <td>3708 N EAGLE ROCK BLVD</td>\n",
       "      <td>False</td>\n",
       "      <td>Cafe</td>\n",
       "      <td>26</td>\n",
       "      <td>N EAGLE ROCK BLVD</td>\n",
       "    </tr>\n",
       "    <tr>\n",
       "      <th>1</th>\n",
       "      <td>11787</td>\n",
       "      <td>REILLY'S</td>\n",
       "      <td>100 WORLD WAY 120</td>\n",
       "      <td>False</td>\n",
       "      <td>Restaurant</td>\n",
       "      <td>9</td>\n",
       "      <td>WORLD WAY 120</td>\n",
       "    </tr>\n",
       "    <tr>\n",
       "      <th>2</th>\n",
       "      <td>11788</td>\n",
       "      <td>STREET CHURROS</td>\n",
       "      <td>6801 HOLLYWOOD BLVD 253</td>\n",
       "      <td>False</td>\n",
       "      <td>Fast Food</td>\n",
       "      <td>20</td>\n",
       "      <td>HOLLYWOOD BLVD 253</td>\n",
       "    </tr>\n",
       "    <tr>\n",
       "      <th>3</th>\n",
       "      <td>11789</td>\n",
       "      <td>TRINITI ECHO PARK</td>\n",
       "      <td>1814 W SUNSET BLVD</td>\n",
       "      <td>False</td>\n",
       "      <td>Restaurant</td>\n",
       "      <td>22</td>\n",
       "      <td>W SUNSET BLVD</td>\n",
       "    </tr>\n",
       "    <tr>\n",
       "      <th>4</th>\n",
       "      <td>11790</td>\n",
       "      <td>POLLEN</td>\n",
       "      <td>2100 ECHO PARK AVE</td>\n",
       "      <td>False</td>\n",
       "      <td>Restaurant</td>\n",
       "      <td>20</td>\n",
       "      <td>ECHO PARK AVE</td>\n",
       "    </tr>\n",
       "    <tr>\n",
       "      <th>...</th>\n",
       "      <td>...</td>\n",
       "      <td>...</td>\n",
       "      <td>...</td>\n",
       "      <td>...</td>\n",
       "      <td>...</td>\n",
       "      <td>...</td>\n",
       "      <td>...</td>\n",
       "    </tr>\n",
       "    <tr>\n",
       "      <th>9646</th>\n",
       "      <td>21432</td>\n",
       "      <td>HALL OF JUSTICE</td>\n",
       "      <td>217 W TEMPLE AVE</td>\n",
       "      <td>False</td>\n",
       "      <td>Restaurant</td>\n",
       "      <td>122</td>\n",
       "      <td>W TEMPLE AVE</td>\n",
       "    </tr>\n",
       "    <tr>\n",
       "      <th>9647</th>\n",
       "      <td>21433</td>\n",
       "      <td>FIN-MELROSE</td>\n",
       "      <td>5750 MELROSE AVE</td>\n",
       "      <td>False</td>\n",
       "      <td>Restaurant</td>\n",
       "      <td>93</td>\n",
       "      <td>MELROSE AVE</td>\n",
       "    </tr>\n",
       "    <tr>\n",
       "      <th>9648</th>\n",
       "      <td>21434</td>\n",
       "      <td>JUICY WINGZ</td>\n",
       "      <td>6741 HOLLYWOOD BLVD</td>\n",
       "      <td>True</td>\n",
       "      <td>Fast Food</td>\n",
       "      <td>15</td>\n",
       "      <td>HOLLYWOOD BLVD</td>\n",
       "    </tr>\n",
       "    <tr>\n",
       "      <th>9649</th>\n",
       "      <td>21435</td>\n",
       "      <td>MEDIDATE COFFEE</td>\n",
       "      <td>548 S SPRING ST STE 100</td>\n",
       "      <td>False</td>\n",
       "      <td>Cafe</td>\n",
       "      <td>6</td>\n",
       "      <td>S SPRING ST STE 100</td>\n",
       "    </tr>\n",
       "    <tr>\n",
       "      <th>9650</th>\n",
       "      <td>21436</td>\n",
       "      <td>CAFE SPROUTS</td>\n",
       "      <td>1300 S SAN PEDRO ST STE 111</td>\n",
       "      <td>True</td>\n",
       "      <td>Restaurant</td>\n",
       "      <td>19</td>\n",
       "      <td>S SAN PEDRO ST STE 111</td>\n",
       "    </tr>\n",
       "  </tbody>\n",
       "</table>\n",
       "<p>9651 rows × 7 columns</p>\n",
       "</div>"
      ],
      "text/plain": [
       "         id          object_name                      address  chain  \\\n",
       "0     11786  HABITAT COFFEE SHOP       3708 N EAGLE ROCK BLVD  False   \n",
       "1     11787             REILLY'S            100 WORLD WAY 120  False   \n",
       "2     11788       STREET CHURROS      6801 HOLLYWOOD BLVD 253  False   \n",
       "3     11789    TRINITI ECHO PARK           1814 W SUNSET BLVD  False   \n",
       "4     11790               POLLEN           2100 ECHO PARK AVE  False   \n",
       "...     ...                  ...                          ...    ...   \n",
       "9646  21432      HALL OF JUSTICE             217 W TEMPLE AVE  False   \n",
       "9647  21433          FIN-MELROSE             5750 MELROSE AVE  False   \n",
       "9648  21434          JUICY WINGZ          6741 HOLLYWOOD BLVD   True   \n",
       "9649  21435      MEDIDATE COFFEE      548 S SPRING ST STE 100  False   \n",
       "9650  21436         CAFE SPROUTS  1300 S SAN PEDRO ST STE 111   True   \n",
       "\n",
       "     object_type  number             street_name  \n",
       "0           Cafe      26       N EAGLE ROCK BLVD  \n",
       "1     Restaurant       9           WORLD WAY 120  \n",
       "2      Fast Food      20      HOLLYWOOD BLVD 253  \n",
       "3     Restaurant      22           W SUNSET BLVD  \n",
       "4     Restaurant      20           ECHO PARK AVE  \n",
       "...          ...     ...                     ...  \n",
       "9646  Restaurant     122            W TEMPLE AVE  \n",
       "9647  Restaurant      93             MELROSE AVE  \n",
       "9648   Fast Food      15          HOLLYWOOD BLVD  \n",
       "9649        Cafe       6     S SPRING ST STE 100  \n",
       "9650  Restaurant      19  S SAN PEDRO ST STE 111  \n",
       "\n",
       "[9651 rows x 7 columns]"
      ]
     },
     "execution_count": 42,
     "metadata": {},
     "output_type": "execute_result"
    }
   ],
   "source": [
    "# Extract the street names from the address column into a separate column.\n",
    "\n",
    "# Function to extract just the street name\n",
    "def extract_street_name(address):\n",
    "    # Splitting the address into parts and removing the first part (the number)\n",
    "    partes = address.split(' ')\n",
    "    return ' '.join(partes[1:]) if len(partes) > 1 else address\n",
    "\n",
    "# Applying the function to the address column\n",
    "df_data['street_name'] = df_data['address'].apply(extract_street_name)\n",
    "df_data"
   ]
  },
  {
   "cell_type": "code",
   "execution_count": 43,
   "metadata": {
    "scrolled": false
   },
   "outputs": [
    {
     "data": {
      "image/png": "[encoded data removed]",
      "text/plain": [
       "<Figure size 1200x600 with 1 Axes>"
      ]
     },
     "metadata": {},
     "output_type": "display_data"
    }
   ],
   "source": [
    "# Finding the ten streets with the highest number of restaurants\n",
    "top_10_street = df_data[df_data['object_type'] == 'Restaurant'].groupby('street_name')['object_name'].count().sort_values(ascending=False).head(10).reset_index()\n",
    "top_10_street.columns = ['street_name', 'restaurant_count']\n",
    "\n",
    "# Configuring the Seaborn style\n",
    "sns.set(style=\"whitegrid\")\n",
    "\n",
    "# Plotting the bar chart with Seaborn\n",
    "plt.figure(figsize=(12, 6))\n",
    "ax = sns.barplot(x='street_name', y='restaurant_count', data=top_10_street, color='#DBB40C', edgecolor='#000000')\n",
    "ax.set_title('As Dez Ruas Com Maior Número de Restaurantes')\n",
    "ax.set_xlabel('Ruas')\n",
    "ax.set_ylabel('Quantidade de Restaurantes')\n",
    "plt.xticks(rotation=45)\n",
    "plt.grid(axis='y', linestyle='--', linewidth=0.8)\n",
    "plt.show()"
   ]
  },
  {
   "cell_type": "code",
   "execution_count": 44,
   "metadata": {
    "scrolled": true
   },
   "outputs": [
    {
     "data": {
      "text/html": [
       "<div>\n",
       "<style scoped>\n",
       "    .dataframe tbody tr th:only-of-type {\n",
       "        vertical-align: middle;\n",
       "    }\n",
       "\n",
       "    .dataframe tbody tr th {\n",
       "        vertical-align: top;\n",
       "    }\n",
       "\n",
       "    .dataframe thead th {\n",
       "        text-align: right;\n",
       "    }\n",
       "</style>\n",
       "<table border=\"1\" class=\"dataframe\">\n",
       "  <thead>\n",
       "    <tr style=\"text-align: right;\">\n",
       "      <th></th>\n",
       "      <th>street_name</th>\n",
       "      <th>restaurant_count</th>\n",
       "    </tr>\n",
       "  </thead>\n",
       "  <tbody>\n",
       "    <tr>\n",
       "      <th>0</th>\n",
       "      <td>W PICO BLVD</td>\n",
       "      <td>218</td>\n",
       "    </tr>\n",
       "    <tr>\n",
       "      <th>1</th>\n",
       "      <td>W SUNSET BLVD</td>\n",
       "      <td>217</td>\n",
       "    </tr>\n",
       "    <tr>\n",
       "      <th>2</th>\n",
       "      <td>HOLLYWOOD BLVD</td>\n",
       "      <td>136</td>\n",
       "    </tr>\n",
       "    <tr>\n",
       "      <th>3</th>\n",
       "      <td>WILSHIRE BLVD</td>\n",
       "      <td>131</td>\n",
       "    </tr>\n",
       "    <tr>\n",
       "      <th>4</th>\n",
       "      <td>W 3RD ST</td>\n",
       "      <td>119</td>\n",
       "    </tr>\n",
       "    <tr>\n",
       "      <th>5</th>\n",
       "      <td>S VERMONT AVE</td>\n",
       "      <td>107</td>\n",
       "    </tr>\n",
       "    <tr>\n",
       "      <th>6</th>\n",
       "      <td>SANTA MONICA BLVD</td>\n",
       "      <td>107</td>\n",
       "    </tr>\n",
       "    <tr>\n",
       "      <th>7</th>\n",
       "      <td>W OLYMPIC BLVD</td>\n",
       "      <td>107</td>\n",
       "    </tr>\n",
       "    <tr>\n",
       "      <th>8</th>\n",
       "      <td>MELROSE AVE</td>\n",
       "      <td>106</td>\n",
       "    </tr>\n",
       "    <tr>\n",
       "      <th>9</th>\n",
       "      <td>BEVERLY BLVD</td>\n",
       "      <td>103</td>\n",
       "    </tr>\n",
       "  </tbody>\n",
       "</table>\n",
       "</div>"
      ],
      "text/plain": [
       "         street_name  restaurant_count\n",
       "0        W PICO BLVD               218\n",
       "1      W SUNSET BLVD               217\n",
       "2     HOLLYWOOD BLVD               136\n",
       "3      WILSHIRE BLVD               131\n",
       "4           W 3RD ST               119\n",
       "5      S VERMONT AVE               107\n",
       "6  SANTA MONICA BLVD               107\n",
       "7     W OLYMPIC BLVD               107\n",
       "8        MELROSE AVE               106\n",
       "9       BEVERLY BLVD               103"
      ]
     },
     "execution_count": 44,
     "metadata": {},
     "output_type": "execute_result"
    }
   ],
   "source": [
    "top_10_street"
   ]
  },
  {
   "cell_type": "markdown",
   "metadata": {},
   "source": [
    "Note:\n",
    "When analyzing the ten streets with the highest number of restaurants, we can see that \"W PICO BLVD\" and \"W SUNSET BLVD\" stand out with a significant difference, having about a hundred more restaurants than the other streets."
   ]
  },
  {
   "cell_type": "code",
   "execution_count": 45,
   "metadata": {},
   "outputs": [
    {
     "name": "stdout",
     "output_type": "stream",
     "text": [
      "Número de ruas que têm apenas um restaurante: 1977\n"
     ]
    }
   ],
   "source": [
    "# Find the number of streets that have only one restaurant.\n",
    "\n",
    "# Filtering the search for restaurants\n",
    "restaurant = df_data[df_data['object_type'] == 'Restaurant']\n",
    "# Grouping the data by street name\n",
    "count_restaurant = restaurant.groupby('street_name')['object_name'].count()\n",
    "# Filtering the search for streets with only one restaurant\n",
    "streets_with_just_one = count_restaurant[count_restaurant == 1]\n",
    "# Counting the number of streets with only one restaurant\n",
    "count_restaurant_with_just_one = len(streets_with_just_one)\n",
    "\n",
    "print(\"Número de ruas que têm apenas um restaurante:\", count_restaurant_with_just_one)"
   ]
  },
  {
   "cell_type": "code",
   "execution_count": 46,
   "metadata": {
    "scrolled": false
   },
   "outputs": [
    {
     "data": {
      "image/png": "[encoded data removed]",
      "text/plain": [
       "<Figure size 1000x800 with 1 Axes>"
      ]
     },
     "metadata": {},
     "output_type": "display_data"
    }
   ],
   "source": [
    "# For the streets with many restaurants, look at the distribution of the number of seats. What trends can you observe?\n",
    "\n",
    "# Filtering streets with many restaurants\n",
    "street_with_many_restaurant = count_restaurant[count_restaurant > 100].index\n",
    "\n",
    "# Filtering the restaurants on these streets\n",
    "restaurant_in_this_street = df_data[df_data['street_name'].isin(street_with_many_restaurant) & (df_data['object_type'] == 'Restaurant')]\n",
    "\n",
    "# Configuring the Seaborn style\n",
    "sns.set(style=\"whitegrid\")\n",
    "\n",
    "# Generating boxplot graphs for better visualization of the distribution\n",
    "plt.figure(figsize=(10, 8))\n",
    "ax = sns.boxplot(x='street_name', y='number', data=restaurant_in_this_street, palette='pastel')\n",
    "ax.set_title('Distribuição do Número de Assentos por Rua')\n",
    "ax.set_xlabel('Nome das Ruas')\n",
    "ax.set_ylabel('Número de Assentos')\n",
    "plt.xticks(rotation=45)\n",
    "plt.show()"
   ]
  },
  {
   "cell_type": "code",
   "execution_count": 47,
   "metadata": {
    "scrolled": true
   },
   "outputs": [
    {
     "data": {
      "text/html": [
       "<div>\n",
       "<style scoped>\n",
       "    .dataframe tbody tr th:only-of-type {\n",
       "        vertical-align: middle;\n",
       "    }\n",
       "\n",
       "    .dataframe tbody tr th {\n",
       "        vertical-align: top;\n",
       "    }\n",
       "\n",
       "    .dataframe thead th {\n",
       "        text-align: right;\n",
       "    }\n",
       "</style>\n",
       "<table border=\"1\" class=\"dataframe\">\n",
       "  <thead>\n",
       "    <tr style=\"text-align: right;\">\n",
       "      <th></th>\n",
       "      <th>street_name</th>\n",
       "      <th>restaurant_count</th>\n",
       "    </tr>\n",
       "  </thead>\n",
       "  <tbody>\n",
       "    <tr>\n",
       "      <th>0</th>\n",
       "      <td>W PICO BLVD</td>\n",
       "      <td>218</td>\n",
       "    </tr>\n",
       "    <tr>\n",
       "      <th>1</th>\n",
       "      <td>W SUNSET BLVD</td>\n",
       "      <td>217</td>\n",
       "    </tr>\n",
       "    <tr>\n",
       "      <th>2</th>\n",
       "      <td>HOLLYWOOD BLVD</td>\n",
       "      <td>136</td>\n",
       "    </tr>\n",
       "    <tr>\n",
       "      <th>3</th>\n",
       "      <td>WILSHIRE BLVD</td>\n",
       "      <td>131</td>\n",
       "    </tr>\n",
       "    <tr>\n",
       "      <th>4</th>\n",
       "      <td>W 3RD ST</td>\n",
       "      <td>119</td>\n",
       "    </tr>\n",
       "    <tr>\n",
       "      <th>5</th>\n",
       "      <td>S VERMONT AVE</td>\n",
       "      <td>107</td>\n",
       "    </tr>\n",
       "    <tr>\n",
       "      <th>6</th>\n",
       "      <td>SANTA MONICA BLVD</td>\n",
       "      <td>107</td>\n",
       "    </tr>\n",
       "    <tr>\n",
       "      <th>7</th>\n",
       "      <td>W OLYMPIC BLVD</td>\n",
       "      <td>107</td>\n",
       "    </tr>\n",
       "    <tr>\n",
       "      <th>8</th>\n",
       "      <td>MELROSE AVE</td>\n",
       "      <td>106</td>\n",
       "    </tr>\n",
       "    <tr>\n",
       "      <th>9</th>\n",
       "      <td>BEVERLY BLVD</td>\n",
       "      <td>103</td>\n",
       "    </tr>\n",
       "  </tbody>\n",
       "</table>\n",
       "</div>"
      ],
      "text/plain": [
       "         street_name  restaurant_count\n",
       "0        W PICO BLVD               218\n",
       "1      W SUNSET BLVD               217\n",
       "2     HOLLYWOOD BLVD               136\n",
       "3      WILSHIRE BLVD               131\n",
       "4           W 3RD ST               119\n",
       "5      S VERMONT AVE               107\n",
       "6  SANTA MONICA BLVD               107\n",
       "7     W OLYMPIC BLVD               107\n",
       "8        MELROSE AVE               106\n",
       "9       BEVERLY BLVD               103"
      ]
     },
     "execution_count": 47,
     "metadata": {},
     "output_type": "execute_result"
    }
   ],
   "source": [
    "top_10_street"
   ]
  },
  {
   "cell_type": "markdown",
   "metadata": {},
   "source": [
    "Notes:\n",
    "- We can conclude that the majority of establishments are restaurants and fast food places, but restaurants dominate in terms of quantity compared to any other type of establishment in the industry.\n",
    "\n",
    "- We can identify that there are fewer chain establishments than non-chain establishments.\n",
    "\n",
    "- \"WILSHIRE BLVD\" and \"HOLLYWOOD BLVD\" are ranked 3rd and 4th in the list of the top ten streets with the most restaurants, but they have the highest number of seats in their restaurants.\n",
    "\n",
    "- The restaurants with the highest number of seats are located on the streets with the largest number of restaurants, such as \"W SUNSET BLVD\", \"MELROSE AVE\", and \"W OLYMPIC BLVD\", which are ranked 2nd, 8th, and 9th in the top ten streets with the most restaurants."
   ]
  },
  {
   "cell_type": "markdown",
   "metadata": {},
   "source": [
    "# Recommendation:\n",
    " After analyzing the data, we conclude that the most suitable type of establishment is the restaurant, as they are busier and more popular among the public, with an average of 48 seats. Although independent establishments are more numerous, it is important to consider that developing a restaurant with robot waiters could transform into a chain, as chain establishments generate more fame and, consequently, attract more customers, ensuring the success of our venture."
   ]
  },
  {
   "cell_type": "markdown",
   "metadata": {},
   "source": [
    "# Presentation: <https://1drv.ms/p/s!Aph4AUJrfEhGszfEi5vdVnvI27LE?e=JEniMB>"
   ]
  }
 ],
 "metadata": {
  "ExecuteTimeLog": [
   {
    "duration": 329,
    "start_time": "2024-06-25T22:24:54.984Z"
   },
   {
    "duration": 452,
    "start_time": "2024-06-25T22:25:05.940Z"
   },
   {
    "duration": 820,
    "start_time": "2024-06-25T22:25:06.401Z"
   },
   {
    "duration": 4430,
    "start_time": "2024-06-25T22:27:06.517Z"
   },
   {
    "duration": 25,
    "start_time": "2024-06-25T22:27:31.046Z"
   },
   {
    "duration": 16,
    "start_time": "2024-06-25T22:27:33.149Z"
   },
   {
    "duration": 23,
    "start_time": "2024-06-25T22:27:46.382Z"
   },
   {
    "duration": 18,
    "start_time": "2024-06-25T22:27:46.817Z"
   },
   {
    "duration": 3,
    "start_time": "2024-06-25T22:28:49.033Z"
   },
   {
    "duration": 25,
    "start_time": "2024-06-25T22:29:01.377Z"
   },
   {
    "duration": 19,
    "start_time": "2024-06-25T22:29:04.687Z"
   },
   {
    "duration": 23,
    "start_time": "2024-06-25T22:29:19.019Z"
   },
   {
    "duration": 18,
    "start_time": "2024-06-25T22:29:19.393Z"
   },
   {
    "duration": 17,
    "start_time": "2024-06-25T22:30:33.760Z"
   },
   {
    "duration": 13,
    "start_time": "2024-06-25T22:31:03.339Z"
   },
   {
    "duration": 17,
    "start_time": "2024-06-25T22:31:16.355Z"
   },
   {
    "duration": 477,
    "start_time": "2024-06-25T22:35:42.097Z"
   },
   {
    "duration": 34,
    "start_time": "2024-06-25T22:35:42.578Z"
   },
   {
    "duration": 30,
    "start_time": "2024-06-25T22:35:42.615Z"
   },
   {
    "duration": 21,
    "start_time": "2024-06-25T22:35:42.650Z"
   },
   {
    "duration": 409,
    "start_time": "2024-06-25T22:36:13.160Z"
   },
   {
    "duration": 33,
    "start_time": "2024-06-25T22:36:13.573Z"
   },
   {
    "duration": 23,
    "start_time": "2024-06-25T22:36:13.609Z"
   },
   {
    "duration": 18,
    "start_time": "2024-06-25T22:36:13.635Z"
   },
   {
    "duration": 470,
    "start_time": "2024-06-25T23:42:42.436Z"
   },
   {
    "duration": 28,
    "start_time": "2024-06-25T23:42:42.910Z"
   },
   {
    "duration": 25,
    "start_time": "2024-06-25T23:42:42.940Z"
   },
   {
    "duration": 39,
    "start_time": "2024-06-25T23:42:42.970Z"
   },
   {
    "duration": 141,
    "start_time": "2024-06-25T23:43:36.249Z"
   },
   {
    "duration": 18,
    "start_time": "2024-06-25T23:43:49.196Z"
   },
   {
    "duration": 20,
    "start_time": "2024-06-25T23:43:56.039Z"
   },
   {
    "duration": 16,
    "start_time": "2024-06-25T23:44:03.754Z"
   },
   {
    "duration": 10,
    "start_time": "2024-06-25T23:45:55.458Z"
   },
   {
    "duration": 10,
    "start_time": "2024-06-25T23:46:13.485Z"
   },
   {
    "duration": 10,
    "start_time": "2024-06-25T23:46:25.198Z"
   },
   {
    "duration": 10,
    "start_time": "2024-06-25T23:46:33.300Z"
   },
   {
    "duration": 14,
    "start_time": "2024-06-25T23:46:40.302Z"
   },
   {
    "duration": 11,
    "start_time": "2024-06-25T23:46:53.972Z"
   },
   {
    "duration": 12,
    "start_time": "2024-06-25T23:47:01.415Z"
   },
   {
    "duration": 10,
    "start_time": "2024-06-25T23:48:33.386Z"
   },
   {
    "duration": 18,
    "start_time": "2024-06-25T23:50:06.214Z"
   },
   {
    "duration": 28,
    "start_time": "2024-06-25T23:50:16.300Z"
   },
   {
    "duration": 27,
    "start_time": "2024-06-25T23:50:21.083Z"
   },
   {
    "duration": 28,
    "start_time": "2024-06-25T23:50:33.672Z"
   },
   {
    "duration": 11,
    "start_time": "2024-06-25T23:50:50.861Z"
   },
   {
    "duration": 17,
    "start_time": "2024-06-25T23:51:13.449Z"
   },
   {
    "duration": 12,
    "start_time": "2024-06-25T23:51:24.333Z"
   },
   {
    "duration": 11,
    "start_time": "2024-06-25T23:52:35.520Z"
   },
   {
    "duration": 10,
    "start_time": "2024-06-25T23:53:03.853Z"
   },
   {
    "duration": 19,
    "start_time": "2024-06-25T23:53:08.886Z"
   },
   {
    "duration": 16,
    "start_time": "2024-06-25T23:53:52.747Z"
   },
   {
    "duration": 17,
    "start_time": "2024-06-25T23:55:14.563Z"
   },
   {
    "duration": 12,
    "start_time": "2024-06-25T23:55:20.931Z"
   },
   {
    "duration": 17,
    "start_time": "2024-06-25T23:56:49.406Z"
   },
   {
    "duration": 7,
    "start_time": "2024-06-26T00:00:12.801Z"
   },
   {
    "duration": 5,
    "start_time": "2024-06-26T00:00:21.897Z"
   },
   {
    "duration": 5,
    "start_time": "2024-06-26T00:00:30.785Z"
   },
   {
    "duration": 7,
    "start_time": "2024-06-26T00:00:50.638Z"
   },
   {
    "duration": 742,
    "start_time": "2024-06-26T00:01:05.240Z"
   },
   {
    "duration": 6,
    "start_time": "2024-06-26T00:01:35.200Z"
   },
   {
    "duration": 269,
    "start_time": "2024-06-26T00:01:43.572Z"
   },
   {
    "duration": 452,
    "start_time": "2024-06-26T00:02:13.593Z"
   },
   {
    "duration": 75,
    "start_time": "2024-06-26T00:02:23.624Z"
   },
   {
    "duration": 5,
    "start_time": "2024-06-26T00:07:26.691Z"
   },
   {
    "duration": 12,
    "start_time": "2024-06-26T00:07:35.189Z"
   },
   {
    "duration": 15,
    "start_time": "2024-06-26T00:07:45.412Z"
   },
   {
    "duration": 6,
    "start_time": "2024-06-26T00:08:18.837Z"
   },
   {
    "duration": 16,
    "start_time": "2024-06-26T00:08:19.150Z"
   },
   {
    "duration": 5,
    "start_time": "2024-06-26T00:09:44.194Z"
   },
   {
    "duration": 27,
    "start_time": "2024-06-26T00:10:12.809Z"
   },
   {
    "duration": 21,
    "start_time": "2024-06-26T00:14:06.114Z"
   },
   {
    "duration": 863,
    "start_time": "2024-06-26T00:14:22.268Z"
   },
   {
    "duration": 716,
    "start_time": "2024-06-26T00:15:31.605Z"
   },
   {
    "duration": 95,
    "start_time": "2024-06-26T00:16:24.525Z"
   },
   {
    "duration": 14,
    "start_time": "2024-06-26T00:17:50.694Z"
   },
   {
    "duration": 4,
    "start_time": "2024-06-26T00:18:38.453Z"
   },
   {
    "duration": 35,
    "start_time": "2024-06-26T00:19:16.142Z"
   },
   {
    "duration": 5,
    "start_time": "2024-06-26T00:20:09.777Z"
   },
   {
    "duration": 272,
    "start_time": "2024-06-26T00:20:12.715Z"
   },
   {
    "duration": 270,
    "start_time": "2024-06-26T00:24:10.844Z"
   },
   {
    "duration": 266,
    "start_time": "2024-06-26T00:26:49.244Z"
   },
   {
    "duration": 270,
    "start_time": "2024-06-26T00:27:20.133Z"
   },
   {
    "duration": 316,
    "start_time": "2024-06-26T00:28:02.688Z"
   },
   {
    "duration": 285,
    "start_time": "2024-06-26T00:28:09.222Z"
   },
   {
    "duration": 258,
    "start_time": "2024-06-26T00:29:51.727Z"
   },
   {
    "duration": 264,
    "start_time": "2024-06-26T00:30:15.282Z"
   },
   {
    "duration": 266,
    "start_time": "2024-06-26T00:33:06.841Z"
   },
   {
    "duration": 305,
    "start_time": "2024-06-26T00:33:31.797Z"
   },
   {
    "duration": 272,
    "start_time": "2024-06-26T00:33:46.573Z"
   },
   {
    "duration": 381,
    "start_time": "2024-06-26T00:34:18.314Z"
   },
   {
    "duration": 258,
    "start_time": "2024-06-26T00:34:22.946Z"
   },
   {
    "duration": 263,
    "start_time": "2024-06-26T00:34:44.747Z"
   },
   {
    "duration": 257,
    "start_time": "2024-06-26T00:35:38.667Z"
   },
   {
    "duration": 267,
    "start_time": "2024-06-26T00:36:14.604Z"
   },
   {
    "duration": 254,
    "start_time": "2024-06-26T00:36:20.452Z"
   },
   {
    "duration": 261,
    "start_time": "2024-06-26T00:36:35.029Z"
   },
   {
    "duration": 264,
    "start_time": "2024-06-26T00:36:41.789Z"
   },
   {
    "duration": 271,
    "start_time": "2024-06-26T00:36:46.887Z"
   },
   {
    "duration": 5,
    "start_time": "2024-06-26T00:40:54.619Z"
   },
   {
    "duration": 8,
    "start_time": "2024-06-26T00:41:24.904Z"
   },
   {
    "duration": 29,
    "start_time": "2024-06-26T00:45:11.330Z"
   },
   {
    "duration": 26,
    "start_time": "2024-06-26T00:45:53.212Z"
   },
   {
    "duration": 173,
    "start_time": "2024-06-26T00:46:00.035Z"
   },
   {
    "duration": 182,
    "start_time": "2024-06-26T00:46:05.276Z"
   },
   {
    "duration": 180,
    "start_time": "2024-06-26T00:49:24.784Z"
   },
   {
    "duration": 193,
    "start_time": "2024-06-26T00:49:43.304Z"
   },
   {
    "duration": 6,
    "start_time": "2024-06-26T00:50:07.704Z"
   },
   {
    "duration": 199,
    "start_time": "2024-06-26T00:50:40.719Z"
   },
   {
    "duration": 186,
    "start_time": "2024-06-26T00:50:50.655Z"
   },
   {
    "duration": 188,
    "start_time": "2024-06-26T00:50:59.040Z"
   },
   {
    "duration": 215,
    "start_time": "2024-06-26T00:51:50.569Z"
   },
   {
    "duration": 214,
    "start_time": "2024-06-26T00:51:57.361Z"
   },
   {
    "duration": 190,
    "start_time": "2024-06-26T00:53:24.475Z"
   },
   {
    "duration": 19,
    "start_time": "2024-06-26T00:53:48.928Z"
   },
   {
    "duration": 6,
    "start_time": "2024-06-26T00:54:35.082Z"
   },
   {
    "duration": 16,
    "start_time": "2024-06-26T00:54:38.012Z"
   },
   {
    "duration": 15,
    "start_time": "2024-06-26T00:54:41.826Z"
   },
   {
    "duration": 270,
    "start_time": "2024-06-26T00:54:43.650Z"
   },
   {
    "duration": 222,
    "start_time": "2024-06-26T00:54:45.929Z"
   },
   {
    "duration": 7,
    "start_time": "2024-06-26T00:54:46.524Z"
   },
   {
    "duration": 178,
    "start_time": "2024-06-26T00:54:51.363Z"
   },
   {
    "duration": 196,
    "start_time": "2024-06-26T00:54:55.090Z"
   },
   {
    "duration": 211,
    "start_time": "2024-06-26T00:55:01.724Z"
   },
   {
    "duration": 665,
    "start_time": "2024-06-26T00:56:38.692Z"
   },
   {
    "duration": 7,
    "start_time": "2024-06-26T00:58:16.256Z"
   },
   {
    "duration": 10,
    "start_time": "2024-06-26T00:58:39.469Z"
   },
   {
    "duration": 11,
    "start_time": "2024-06-26T00:58:44.127Z"
   },
   {
    "duration": 16,
    "start_time": "2024-06-26T00:58:46.710Z"
   },
   {
    "duration": 10,
    "start_time": "2024-06-26T00:59:01.487Z"
   },
   {
    "duration": 10,
    "start_time": "2024-06-26T00:59:33.184Z"
   },
   {
    "duration": 26,
    "start_time": "2024-06-26T01:10:56.656Z"
   },
   {
    "duration": 734,
    "start_time": "2024-06-26T01:12:55.793Z"
   },
   {
    "duration": 11,
    "start_time": "2024-06-26T01:13:54.827Z"
   },
   {
    "duration": 12,
    "start_time": "2024-06-26T01:14:14.721Z"
   },
   {
    "duration": 12,
    "start_time": "2024-06-26T01:14:15.344Z"
   },
   {
    "duration": 19,
    "start_time": "2024-06-26T01:15:00.319Z"
   },
   {
    "duration": 216,
    "start_time": "2024-06-26T01:16:43.246Z"
   },
   {
    "duration": 251,
    "start_time": "2024-06-26T01:18:19.532Z"
   },
   {
    "duration": 241,
    "start_time": "2024-06-26T01:18:54.263Z"
   },
   {
    "duration": 280,
    "start_time": "2024-06-26T01:19:27.494Z"
   },
   {
    "duration": 240,
    "start_time": "2024-06-26T01:19:41.250Z"
   },
   {
    "duration": 241,
    "start_time": "2024-06-26T01:20:21.626Z"
   },
   {
    "duration": 1310,
    "start_time": "2024-06-26T01:20:32.449Z"
   },
   {
    "duration": 25,
    "start_time": "2024-06-26T01:20:33.763Z"
   },
   {
    "duration": 30,
    "start_time": "2024-06-26T01:20:33.791Z"
   },
   {
    "duration": 17,
    "start_time": "2024-06-26T01:20:33.824Z"
   },
   {
    "duration": 12,
    "start_time": "2024-06-26T01:20:33.845Z"
   },
   {
    "duration": 45,
    "start_time": "2024-06-26T01:20:33.859Z"
   },
   {
    "duration": 17,
    "start_time": "2024-06-26T01:20:33.912Z"
   },
   {
    "duration": 12,
    "start_time": "2024-06-26T01:20:33.932Z"
   },
   {
    "duration": 321,
    "start_time": "2024-06-26T01:20:33.947Z"
   },
   {
    "duration": 237,
    "start_time": "2024-06-26T01:20:34.271Z"
   },
   {
    "duration": 7,
    "start_time": "2024-06-26T01:20:34.512Z"
   },
   {
    "duration": 13,
    "start_time": "2024-06-26T01:20:34.523Z"
   },
   {
    "duration": 358,
    "start_time": "2024-06-26T01:20:34.539Z"
   },
   {
    "duration": 11,
    "start_time": "2024-06-26T01:20:34.902Z"
   },
   {
    "duration": 259,
    "start_time": "2024-06-26T01:20:34.917Z"
   },
   {
    "duration": 31,
    "start_time": "2024-06-26T01:20:35.181Z"
   },
   {
    "duration": 19,
    "start_time": "2024-06-26T01:21:41.954Z"
   },
   {
    "duration": 265,
    "start_time": "2024-06-26T01:23:07.432Z"
   },
   {
    "duration": 242,
    "start_time": "2024-06-26T01:23:41.212Z"
   },
   {
    "duration": 279,
    "start_time": "2024-06-26T01:23:53.004Z"
   },
   {
    "duration": 263,
    "start_time": "2024-06-26T01:23:58.173Z"
   },
   {
    "duration": 6,
    "start_time": "2024-06-26T01:24:39.474Z"
   },
   {
    "duration": 8,
    "start_time": "2024-06-26T01:24:46.073Z"
   },
   {
    "duration": 5,
    "start_time": "2024-06-26T01:25:07.308Z"
   },
   {
    "duration": 8,
    "start_time": "2024-06-26T01:25:16.001Z"
   },
   {
    "duration": 7,
    "start_time": "2024-06-26T01:25:21.532Z"
   },
   {
    "duration": 7,
    "start_time": "2024-06-26T01:25:33.412Z"
   },
   {
    "duration": 6,
    "start_time": "2024-06-26T01:25:51.142Z"
   },
   {
    "duration": 8,
    "start_time": "2024-06-26T01:26:00.933Z"
   },
   {
    "duration": 300,
    "start_time": "2024-06-26T01:26:53.106Z"
   },
   {
    "duration": 232,
    "start_time": "2024-06-26T01:27:03.661Z"
   },
   {
    "duration": 4,
    "start_time": "2024-06-26T01:27:20.020Z"
   },
   {
    "duration": 7,
    "start_time": "2024-06-26T01:32:09.650Z"
   },
   {
    "duration": 3,
    "start_time": "2024-06-26T01:37:10.560Z"
   },
   {
    "duration": 21,
    "start_time": "2024-06-26T01:37:59.742Z"
   },
   {
    "duration": 3,
    "start_time": "2024-06-26T02:13:13.795Z"
   },
   {
    "duration": 4,
    "start_time": "2024-06-26T02:17:01.557Z"
   },
   {
    "duration": 5,
    "start_time": "2024-06-26T02:17:05.838Z"
   },
   {
    "duration": 494,
    "start_time": "2024-06-26T02:18:06.070Z"
   },
   {
    "duration": 22,
    "start_time": "2024-06-26T02:18:14.920Z"
   },
   {
    "duration": 7,
    "start_time": "2024-06-26T02:18:45.200Z"
   },
   {
    "duration": 7,
    "start_time": "2024-06-26T02:18:47.119Z"
   },
   {
    "duration": 5,
    "start_time": "2024-06-26T02:20:02.488Z"
   },
   {
    "duration": 6,
    "start_time": "2024-06-26T02:20:15.984Z"
   },
   {
    "duration": 7,
    "start_time": "2024-06-26T02:22:07.897Z"
   },
   {
    "duration": 29,
    "start_time": "2024-06-26T02:22:45.498Z"
   },
   {
    "duration": 5,
    "start_time": "2024-06-26T02:23:02.619Z"
   },
   {
    "duration": 5,
    "start_time": "2024-06-26T02:23:31.250Z"
   },
   {
    "duration": 7,
    "start_time": "2024-06-26T02:23:50.115Z"
   },
   {
    "duration": 6,
    "start_time": "2024-06-26T02:24:27.595Z"
   },
   {
    "duration": 5,
    "start_time": "2024-06-26T02:24:38.106Z"
   },
   {
    "duration": 32,
    "start_time": "2024-06-26T02:36:52.330Z"
   },
   {
    "duration": 6,
    "start_time": "2024-06-26T02:37:01.345Z"
   },
   {
    "duration": 28,
    "start_time": "2024-06-26T02:37:03.197Z"
   },
   {
    "duration": 5,
    "start_time": "2024-06-26T02:40:50.202Z"
   },
   {
    "duration": 7,
    "start_time": "2024-06-26T02:40:57.936Z"
   },
   {
    "duration": 11,
    "start_time": "2024-06-26T02:43:02.281Z"
   },
   {
    "duration": 12,
    "start_time": "2024-06-26T02:44:38.458Z"
   },
   {
    "duration": 29,
    "start_time": "2024-06-26T02:46:20.068Z"
   },
   {
    "duration": 7,
    "start_time": "2024-06-26T02:47:10.197Z"
   },
   {
    "duration": 31,
    "start_time": "2024-06-26T02:48:07.782Z"
   },
   {
    "duration": 372,
    "start_time": "2024-06-26T02:48:16.423Z"
   },
   {
    "duration": 28,
    "start_time": "2024-06-26T02:49:39.783Z"
   },
   {
    "duration": 8,
    "start_time": "2024-06-26T02:50:10.743Z"
   },
   {
    "duration": 10,
    "start_time": "2024-06-26T02:50:14.384Z"
   },
   {
    "duration": 10,
    "start_time": "2024-06-26T02:50:20.951Z"
   },
   {
    "duration": 11,
    "start_time": "2024-06-26T02:50:24.823Z"
   },
   {
    "duration": 34,
    "start_time": "2024-06-26T02:50:52.384Z"
   },
   {
    "duration": 1276,
    "start_time": "2024-06-26T02:51:02.690Z"
   },
   {
    "duration": 29,
    "start_time": "2024-06-26T02:51:03.969Z"
   },
   {
    "duration": 20,
    "start_time": "2024-06-26T02:51:04.003Z"
   },
   {
    "duration": 17,
    "start_time": "2024-06-26T02:51:04.029Z"
   },
   {
    "duration": 10,
    "start_time": "2024-06-26T02:51:04.050Z"
   },
   {
    "duration": 44,
    "start_time": "2024-06-26T02:51:04.063Z"
   },
   {
    "duration": 17,
    "start_time": "2024-06-26T02:51:04.111Z"
   },
   {
    "duration": 13,
    "start_time": "2024-06-26T02:51:04.131Z"
   },
   {
    "duration": 322,
    "start_time": "2024-06-26T02:51:04.148Z"
   },
   {
    "duration": 229,
    "start_time": "2024-06-26T02:51:04.475Z"
   },
   {
    "duration": 7,
    "start_time": "2024-06-26T02:51:04.707Z"
   },
   {
    "duration": 4,
    "start_time": "2024-06-26T02:51:04.716Z"
   },
   {
    "duration": 11,
    "start_time": "2024-06-26T02:51:04.723Z"
   },
   {
    "duration": 12,
    "start_time": "2024-06-26T02:51:04.737Z"
   },
   {
    "duration": 354,
    "start_time": "2024-06-26T02:51:04.752Z"
   },
   {
    "duration": 261,
    "start_time": "2024-06-26T02:51:05.109Z"
   },
   {
    "duration": 7,
    "start_time": "2024-06-26T02:51:05.374Z"
   },
   {
    "duration": 7,
    "start_time": "2024-06-26T02:51:05.401Z"
   },
   {
    "duration": 6,
    "start_time": "2024-06-26T02:51:05.411Z"
   },
   {
    "duration": 434,
    "start_time": "2024-06-26T02:51:05.420Z"
   },
   {
    "duration": 0,
    "start_time": "2024-06-26T02:51:05.857Z"
   },
   {
    "duration": 27,
    "start_time": "2024-06-26T02:51:27.271Z"
   },
   {
    "duration": 9,
    "start_time": "2024-06-26T02:51:36.389Z"
   },
   {
    "duration": 29,
    "start_time": "2024-06-26T02:52:30.712Z"
   },
   {
    "duration": 36,
    "start_time": "2024-06-26T02:52:36.680Z"
   },
   {
    "duration": 9,
    "start_time": "2024-06-26T02:52:48.753Z"
   },
   {
    "duration": 10,
    "start_time": "2024-06-26T02:52:59.728Z"
   },
   {
    "duration": 10,
    "start_time": "2024-06-26T02:55:13.760Z"
   },
   {
    "duration": 10,
    "start_time": "2024-06-26T02:58:30.230Z"
   },
   {
    "duration": 11,
    "start_time": "2024-06-26T02:59:20.108Z"
   },
   {
    "duration": 9,
    "start_time": "2024-06-26T03:00:04.309Z"
   },
   {
    "duration": 10,
    "start_time": "2024-06-26T03:00:23.377Z"
   },
   {
    "duration": 218,
    "start_time": "2024-06-26T03:01:07.373Z"
   },
   {
    "duration": 1561,
    "start_time": "2024-06-26T03:02:25.860Z"
   },
   {
    "duration": 336,
    "start_time": "2024-06-26T03:02:51.200Z"
   },
   {
    "duration": 213,
    "start_time": "2024-06-26T03:03:11.120Z"
   },
   {
    "duration": 239,
    "start_time": "2024-06-26T03:03:18.447Z"
   },
   {
    "duration": 254,
    "start_time": "2024-06-26T03:03:56.090Z"
   },
   {
    "duration": 369,
    "start_time": "2024-06-26T03:06:02.890Z"
   },
   {
    "duration": 396,
    "start_time": "2024-06-26T03:06:26.794Z"
   },
   {
    "duration": 436,
    "start_time": "2024-06-26T03:07:06.435Z"
   },
   {
    "duration": 425,
    "start_time": "2024-06-26T03:07:45.244Z"
   },
   {
    "duration": 385,
    "start_time": "2024-06-26T03:08:11.300Z"
   },
   {
    "duration": 427,
    "start_time": "2024-06-26T03:08:18.939Z"
   },
   {
    "duration": 387,
    "start_time": "2024-06-26T03:08:32.502Z"
   },
   {
    "duration": 263,
    "start_time": "2024-06-26T03:08:56.084Z"
   },
   {
    "duration": 243,
    "start_time": "2024-06-26T03:09:11.268Z"
   },
   {
    "duration": 248,
    "start_time": "2024-06-26T03:09:32.253Z"
   },
   {
    "duration": 10,
    "start_time": "2024-06-26T03:11:28.686Z"
   },
   {
    "duration": 11,
    "start_time": "2024-06-26T03:11:49.543Z"
   },
   {
    "duration": 11,
    "start_time": "2024-06-26T03:12:43.840Z"
   },
   {
    "duration": 10,
    "start_time": "2024-06-26T03:13:44.911Z"
   },
   {
    "duration": 10,
    "start_time": "2024-06-26T03:14:02.088Z"
   },
   {
    "duration": 11,
    "start_time": "2024-06-26T03:15:21.496Z"
   },
   {
    "duration": 244,
    "start_time": "2024-06-26T03:15:21.832Z"
   },
   {
    "duration": 1241,
    "start_time": "2024-06-26T03:15:43.923Z"
   },
   {
    "duration": 36,
    "start_time": "2024-06-26T03:15:45.168Z"
   },
   {
    "duration": 21,
    "start_time": "2024-06-26T03:15:45.206Z"
   },
   {
    "duration": 17,
    "start_time": "2024-06-26T03:15:45.230Z"
   },
   {
    "duration": 10,
    "start_time": "2024-06-26T03:15:45.252Z"
   },
   {
    "duration": 6,
    "start_time": "2024-06-26T03:15:45.302Z"
   },
   {
    "duration": 15,
    "start_time": "2024-06-26T03:15:45.312Z"
   },
   {
    "duration": 12,
    "start_time": "2024-06-26T03:15:45.330Z"
   },
   {
    "duration": 328,
    "start_time": "2024-06-26T03:15:45.345Z"
   },
   {
    "duration": 226,
    "start_time": "2024-06-26T03:15:45.676Z"
   },
   {
    "duration": 9,
    "start_time": "2024-06-26T03:15:45.906Z"
   },
   {
    "duration": 3,
    "start_time": "2024-06-26T03:15:45.919Z"
   },
   {
    "duration": 15,
    "start_time": "2024-06-26T03:15:45.925Z"
   },
   {
    "duration": 12,
    "start_time": "2024-06-26T03:15:45.946Z"
   },
   {
    "duration": 381,
    "start_time": "2024-06-26T03:15:45.962Z"
   },
   {
    "duration": 263,
    "start_time": "2024-06-26T03:15:46.347Z"
   },
   {
    "duration": 7,
    "start_time": "2024-06-26T03:15:46.613Z"
   },
   {
    "duration": 6,
    "start_time": "2024-06-26T03:15:46.624Z"
   },
   {
    "duration": 7,
    "start_time": "2024-06-26T03:15:46.633Z"
   },
   {
    "duration": 11,
    "start_time": "2024-06-26T03:15:46.643Z"
   },
   {
    "duration": 253,
    "start_time": "2024-06-26T03:15:46.707Z"
   },
   {
    "duration": 3,
    "start_time": "2024-06-26T03:17:03.900Z"
   },
   {
    "duration": 3,
    "start_time": "2024-06-26T03:17:09.123Z"
   },
   {
    "duration": 3,
    "start_time": "2024-06-26T03:17:13.843Z"
   },
   {
    "duration": 3,
    "start_time": "2024-06-26T03:17:17.939Z"
   },
   {
    "duration": 4834,
    "start_time": "2024-06-26T16:42:53.703Z"
   },
   {
    "duration": 38,
    "start_time": "2024-06-26T16:42:58.540Z"
   },
   {
    "duration": 20,
    "start_time": "2024-06-26T16:42:58.581Z"
   },
   {
    "duration": 29,
    "start_time": "2024-06-26T16:42:58.605Z"
   },
   {
    "duration": 10,
    "start_time": "2024-06-26T16:42:58.637Z"
   },
   {
    "duration": 7,
    "start_time": "2024-06-26T16:42:58.650Z"
   },
   {
    "duration": 15,
    "start_time": "2024-06-26T16:42:58.660Z"
   },
   {
    "duration": 54,
    "start_time": "2024-06-26T16:42:58.678Z"
   },
   {
    "duration": 307,
    "start_time": "2024-06-26T16:42:58.735Z"
   },
   {
    "duration": 226,
    "start_time": "2024-06-26T16:42:59.049Z"
   },
   {
    "duration": 7,
    "start_time": "2024-06-26T16:42:59.278Z"
   },
   {
    "duration": 4,
    "start_time": "2024-06-26T16:42:59.288Z"
   },
   {
    "duration": 42,
    "start_time": "2024-06-26T16:42:59.295Z"
   },
   {
    "duration": 12,
    "start_time": "2024-06-26T16:42:59.340Z"
   },
   {
    "duration": 269,
    "start_time": "2024-06-26T16:42:59.355Z"
   },
   {
    "duration": 250,
    "start_time": "2024-06-26T16:42:59.626Z"
   },
   {
    "duration": 8,
    "start_time": "2024-06-26T16:42:59.880Z"
   },
   {
    "duration": 6,
    "start_time": "2024-06-26T16:42:59.891Z"
   },
   {
    "duration": 31,
    "start_time": "2024-06-26T16:42:59.901Z"
   },
   {
    "duration": 10,
    "start_time": "2024-06-26T16:42:59.936Z"
   },
   {
    "duration": 279,
    "start_time": "2024-06-26T16:42:59.949Z"
   },
   {
    "duration": 5,
    "start_time": "2024-06-26T16:43:00.231Z"
   },
   {
    "duration": 3,
    "start_time": "2024-06-26T16:43:00.240Z"
   },
   {
    "duration": 3,
    "start_time": "2024-06-26T16:43:00.247Z"
   },
   {
    "duration": 4,
    "start_time": "2024-06-26T16:43:00.253Z"
   },
   {
    "duration": 257,
    "start_time": "2024-06-26T16:43:23.284Z"
   },
   {
    "duration": 241,
    "start_time": "2024-06-26T16:43:30.164Z"
   },
   {
    "duration": 470,
    "start_time": "2024-06-26T16:46:43.007Z"
   },
   {
    "duration": 19,
    "start_time": "2024-06-26T16:46:58.782Z"
   },
   {
    "duration": 14,
    "start_time": "2024-06-26T16:51:05.330Z"
   },
   {
    "duration": 32,
    "start_time": "2024-06-26T16:51:13.194Z"
   },
   {
    "duration": 33,
    "start_time": "2024-06-26T16:53:12.939Z"
   },
   {
    "duration": 8,
    "start_time": "2024-06-26T16:55:39.767Z"
   },
   {
    "duration": 14,
    "start_time": "2024-06-26T16:55:43.637Z"
   },
   {
    "duration": 222,
    "start_time": "2024-06-26T17:15:36.468Z"
   },
   {
    "duration": 1237,
    "start_time": "2024-06-26T17:18:16.936Z"
   },
   {
    "duration": 25,
    "start_time": "2024-06-26T17:18:18.176Z"
   },
   {
    "duration": 29,
    "start_time": "2024-06-26T17:18:18.204Z"
   },
   {
    "duration": 17,
    "start_time": "2024-06-26T17:18:18.236Z"
   },
   {
    "duration": 11,
    "start_time": "2024-06-26T17:18:18.258Z"
   },
   {
    "duration": 8,
    "start_time": "2024-06-26T17:18:18.272Z"
   },
   {
    "duration": 14,
    "start_time": "2024-06-26T17:18:18.330Z"
   },
   {
    "duration": 12,
    "start_time": "2024-06-26T17:18:18.348Z"
   },
   {
    "duration": 328,
    "start_time": "2024-06-26T17:18:18.364Z"
   },
   {
    "duration": 223,
    "start_time": "2024-06-26T17:18:18.695Z"
   },
   {
    "duration": 12,
    "start_time": "2024-06-26T17:18:18.921Z"
   },
   {
    "duration": 4,
    "start_time": "2024-06-26T17:18:18.936Z"
   },
   {
    "duration": 11,
    "start_time": "2024-06-26T17:18:18.944Z"
   },
   {
    "duration": 10,
    "start_time": "2024-06-26T17:18:18.962Z"
   },
   {
    "duration": 364,
    "start_time": "2024-06-26T17:18:18.975Z"
   },
   {
    "duration": 247,
    "start_time": "2024-06-26T17:18:19.342Z"
   },
   {
    "duration": 7,
    "start_time": "2024-06-26T17:18:19.592Z"
   },
   {
    "duration": 28,
    "start_time": "2024-06-26T17:18:19.603Z"
   },
   {
    "duration": 6,
    "start_time": "2024-06-26T17:18:19.634Z"
   },
   {
    "duration": 10,
    "start_time": "2024-06-26T17:18:19.643Z"
   },
   {
    "duration": 286,
    "start_time": "2024-06-26T17:18:19.655Z"
   },
   {
    "duration": 32,
    "start_time": "2024-06-26T17:18:19.944Z"
   },
   {
    "duration": 64581,
    "start_time": "2024-06-26T17:18:19.978Z"
   },
   {
    "duration": 6,
    "start_time": "2024-06-26T17:19:24.562Z"
   },
   {
    "duration": 4,
    "start_time": "2024-06-26T17:19:24.572Z"
   },
   {
    "duration": 371,
    "start_time": "2024-06-26T17:20:42.039Z"
   },
   {
    "duration": 318,
    "start_time": "2024-06-26T17:21:12.380Z"
   },
   {
    "duration": 7,
    "start_time": "2024-06-26T17:21:37.100Z"
   },
   {
    "duration": 330,
    "start_time": "2024-06-26T17:22:02.784Z"
   },
   {
    "duration": 9,
    "start_time": "2024-06-26T17:22:04.136Z"
   },
   {
    "duration": 1395,
    "start_time": "2024-06-26T17:25:47.924Z"
   },
   {
    "duration": 33,
    "start_time": "2024-06-26T17:25:49.323Z"
   },
   {
    "duration": 26,
    "start_time": "2024-06-26T17:25:49.359Z"
   },
   {
    "duration": 41,
    "start_time": "2024-06-26T17:25:49.390Z"
   },
   {
    "duration": 12,
    "start_time": "2024-06-26T17:25:49.434Z"
   },
   {
    "duration": 13,
    "start_time": "2024-06-26T17:25:49.450Z"
   },
   {
    "duration": 19,
    "start_time": "2024-06-26T17:25:49.466Z"
   },
   {
    "duration": 47,
    "start_time": "2024-06-26T17:25:49.488Z"
   },
   {
    "duration": 335,
    "start_time": "2024-06-26T17:25:49.539Z"
   },
   {
    "duration": 255,
    "start_time": "2024-06-26T17:25:49.882Z"
   },
   {
    "duration": 9,
    "start_time": "2024-06-26T17:25:50.140Z"
   },
   {
    "duration": 3,
    "start_time": "2024-06-26T17:25:50.153Z"
   },
   {
    "duration": 12,
    "start_time": "2024-06-26T17:25:50.160Z"
   },
   {
    "duration": 12,
    "start_time": "2024-06-26T17:25:50.175Z"
   },
   {
    "duration": 390,
    "start_time": "2024-06-26T17:25:50.190Z"
   },
   {
    "duration": 290,
    "start_time": "2024-06-26T17:25:50.583Z"
   },
   {
    "duration": 9,
    "start_time": "2024-06-26T17:25:50.879Z"
   },
   {
    "duration": 6,
    "start_time": "2024-06-26T17:25:50.894Z"
   },
   {
    "duration": 6,
    "start_time": "2024-06-26T17:25:50.903Z"
   },
   {
    "duration": 11,
    "start_time": "2024-06-26T17:25:50.932Z"
   },
   {
    "duration": 305,
    "start_time": "2024-06-26T17:25:50.946Z"
   },
   {
    "duration": 37,
    "start_time": "2024-06-26T17:25:51.254Z"
   },
   {
    "duration": 384,
    "start_time": "2024-06-26T17:25:51.294Z"
   },
   {
    "duration": 6,
    "start_time": "2024-06-26T17:25:51.681Z"
   },
   {
    "duration": 3,
    "start_time": "2024-06-26T17:25:51.690Z"
   },
   {
    "duration": 4,
    "start_time": "2024-06-26T17:25:51.696Z"
   },
   {
    "duration": 848,
    "start_time": "2024-06-26T17:30:42.921Z"
   },
   {
    "duration": 320,
    "start_time": "2024-06-26T17:30:53.546Z"
   },
   {
    "duration": 351,
    "start_time": "2024-06-26T17:30:58.051Z"
   },
   {
    "duration": 347,
    "start_time": "2024-06-26T17:30:59.850Z"
   },
   {
    "duration": 31,
    "start_time": "2024-06-26T17:37:47.430Z"
   },
   {
    "duration": 23,
    "start_time": "2024-06-26T17:37:54.849Z"
   },
   {
    "duration": 21,
    "start_time": "2024-06-26T17:38:20.952Z"
   },
   {
    "duration": 7,
    "start_time": "2024-06-26T17:47:33.059Z"
   },
   {
    "duration": 885,
    "start_time": "2024-06-26T17:48:13.655Z"
   },
   {
    "duration": 261,
    "start_time": "2024-06-26T17:48:25.329Z"
   },
   {
    "duration": 253,
    "start_time": "2024-06-26T17:49:01.393Z"
   },
   {
    "duration": 428,
    "start_time": "2024-06-26T17:50:30.951Z"
   },
   {
    "duration": 15,
    "start_time": "2024-06-26T17:51:02.548Z"
   },
   {
    "duration": 346,
    "start_time": "2024-06-26T17:51:49.889Z"
   },
   {
    "duration": 345,
    "start_time": "2024-06-26T17:52:08.300Z"
   },
   {
    "duration": 339,
    "start_time": "2024-06-26T17:52:13.545Z"
   },
   {
    "duration": 349,
    "start_time": "2024-06-26T17:52:22.299Z"
   },
   {
    "duration": 401,
    "start_time": "2024-06-26T17:52:27.002Z"
   },
   {
    "duration": 417,
    "start_time": "2024-06-26T17:52:35.446Z"
   },
   {
    "duration": 339,
    "start_time": "2024-06-26T17:52:40.747Z"
   },
   {
    "duration": 472,
    "start_time": "2024-06-26T17:53:04.445Z"
   },
   {
    "duration": 355,
    "start_time": "2024-06-26T17:54:47.158Z"
   },
   {
    "duration": 339,
    "start_time": "2024-06-26T17:54:55.876Z"
   },
   {
    "duration": 379,
    "start_time": "2024-06-26T17:55:53.685Z"
   },
   {
    "duration": 8,
    "start_time": "2024-06-26T18:01:03.866Z"
   },
   {
    "duration": 524,
    "start_time": "2024-06-26T18:10:30.362Z"
   },
   {
    "duration": 41,
    "start_time": "2024-06-26T18:10:58.339Z"
   },
   {
    "duration": 308,
    "start_time": "2024-06-26T18:11:06.626Z"
   },
   {
    "duration": 371,
    "start_time": "2024-06-26T18:11:22.907Z"
   },
   {
    "duration": 1368,
    "start_time": "2024-06-26T18:43:46.406Z"
   },
   {
    "duration": 26,
    "start_time": "2024-06-26T18:43:47.779Z"
   },
   {
    "duration": 36,
    "start_time": "2024-06-26T18:43:47.809Z"
   },
   {
    "duration": 18,
    "start_time": "2024-06-26T18:43:47.849Z"
   },
   {
    "duration": 12,
    "start_time": "2024-06-26T18:43:47.873Z"
   },
   {
    "duration": 44,
    "start_time": "2024-06-26T18:43:47.889Z"
   },
   {
    "duration": 16,
    "start_time": "2024-06-26T18:43:47.936Z"
   },
   {
    "duration": 13,
    "start_time": "2024-06-26T18:43:47.956Z"
   },
   {
    "duration": 347,
    "start_time": "2024-06-26T18:43:47.972Z"
   },
   {
    "duration": 237,
    "start_time": "2024-06-26T18:43:48.322Z"
   },
   {
    "duration": 8,
    "start_time": "2024-06-26T18:43:48.563Z"
   },
   {
    "duration": 4,
    "start_time": "2024-06-26T18:43:48.574Z"
   },
   {
    "duration": 49,
    "start_time": "2024-06-26T18:43:48.581Z"
   },
   {
    "duration": 12,
    "start_time": "2024-06-26T18:43:48.638Z"
   },
   {
    "duration": 363,
    "start_time": "2024-06-26T18:43:48.652Z"
   },
   {
    "duration": 279,
    "start_time": "2024-06-26T18:43:49.019Z"
   },
   {
    "duration": 7,
    "start_time": "2024-06-26T18:43:49.303Z"
   },
   {
    "duration": 19,
    "start_time": "2024-06-26T18:43:49.313Z"
   },
   {
    "duration": 7,
    "start_time": "2024-06-26T18:43:49.335Z"
   },
   {
    "duration": 11,
    "start_time": "2024-06-26T18:43:49.345Z"
   },
   {
    "duration": 314,
    "start_time": "2024-06-26T18:43:49.359Z"
   },
   {
    "duration": 40,
    "start_time": "2024-06-26T18:43:49.677Z"
   },
   {
    "duration": 351,
    "start_time": "2024-06-26T18:43:49.732Z"
   },
   {
    "duration": 9,
    "start_time": "2024-06-26T18:43:50.087Z"
   },
   {
    "duration": 16,
    "start_time": "2024-06-26T18:43:50.100Z"
   },
   {
    "duration": 381,
    "start_time": "2024-06-26T18:43:50.119Z"
   },
   {
    "duration": 10,
    "start_time": "2024-06-26T18:43:50.504Z"
   },
   {
    "duration": 1240,
    "start_time": "2024-06-26T18:58:37.345Z"
   },
   {
    "duration": 24,
    "start_time": "2024-06-26T18:58:38.589Z"
   },
   {
    "duration": 38,
    "start_time": "2024-06-26T18:58:38.615Z"
   },
   {
    "duration": 15,
    "start_time": "2024-06-26T18:58:38.658Z"
   },
   {
    "duration": 11,
    "start_time": "2024-06-26T18:58:38.676Z"
   },
   {
    "duration": 7,
    "start_time": "2024-06-26T18:58:38.690Z"
   },
   {
    "duration": 18,
    "start_time": "2024-06-26T18:58:38.730Z"
   },
   {
    "duration": 12,
    "start_time": "2024-06-26T18:58:38.753Z"
   },
   {
    "duration": 312,
    "start_time": "2024-06-26T18:58:38.769Z"
   },
   {
    "duration": 231,
    "start_time": "2024-06-26T18:58:39.088Z"
   },
   {
    "duration": 23,
    "start_time": "2024-06-26T18:58:39.322Z"
   },
   {
    "duration": 9,
    "start_time": "2024-06-26T18:58:39.351Z"
   },
   {
    "duration": 11,
    "start_time": "2024-06-26T18:58:39.363Z"
   },
   {
    "duration": 13,
    "start_time": "2024-06-26T18:58:39.377Z"
   },
   {
    "duration": 337,
    "start_time": "2024-06-26T18:58:39.394Z"
   },
   {
    "duration": 273,
    "start_time": "2024-06-26T18:58:39.734Z"
   },
   {
    "duration": 25,
    "start_time": "2024-06-26T18:58:40.010Z"
   },
   {
    "duration": 15,
    "start_time": "2024-06-26T18:58:40.038Z"
   },
   {
    "duration": 10,
    "start_time": "2024-06-26T18:58:40.063Z"
   },
   {
    "duration": 17,
    "start_time": "2024-06-26T18:58:40.076Z"
   },
   {
    "duration": 341,
    "start_time": "2024-06-26T18:58:40.097Z"
   },
   {
    "duration": 44,
    "start_time": "2024-06-26T18:58:40.445Z"
   },
   {
    "duration": 394,
    "start_time": "2024-06-26T18:58:40.493Z"
   },
   {
    "duration": 12,
    "start_time": "2024-06-26T18:58:40.891Z"
   },
   {
    "duration": 16,
    "start_time": "2024-06-26T18:58:40.908Z"
   },
   {
    "duration": 375,
    "start_time": "2024-06-26T18:58:40.927Z"
   },
   {
    "duration": 7,
    "start_time": "2024-06-26T18:58:41.306Z"
   },
   {
    "duration": 6,
    "start_time": "2024-06-26T18:59:14.797Z"
   },
   {
    "duration": 5045,
    "start_time": "2024-06-27T20:34:47.790Z"
   },
   {
    "duration": 28,
    "start_time": "2024-06-27T20:34:52.839Z"
   },
   {
    "duration": 21,
    "start_time": "2024-06-27T20:34:52.870Z"
   },
   {
    "duration": 19,
    "start_time": "2024-06-27T20:34:52.913Z"
   },
   {
    "duration": 10,
    "start_time": "2024-06-27T20:34:52.937Z"
   },
   {
    "duration": 8,
    "start_time": "2024-06-27T20:34:52.950Z"
   },
   {
    "duration": 65,
    "start_time": "2024-06-27T20:34:52.960Z"
   },
   {
    "duration": 24,
    "start_time": "2024-06-27T20:34:53.030Z"
   },
   {
    "duration": 323,
    "start_time": "2024-06-27T20:34:53.057Z"
   },
   {
    "duration": 247,
    "start_time": "2024-06-27T20:34:53.383Z"
   },
   {
    "duration": 7,
    "start_time": "2024-06-27T20:34:53.632Z"
   },
   {
    "duration": 4,
    "start_time": "2024-06-27T20:34:53.643Z"
   },
   {
    "duration": 11,
    "start_time": "2024-06-27T20:34:53.650Z"
   },
   {
    "duration": 57,
    "start_time": "2024-06-27T20:34:53.667Z"
   },
   {
    "duration": 274,
    "start_time": "2024-06-27T20:34:53.727Z"
   },
   {
    "duration": 277,
    "start_time": "2024-06-27T20:34:54.004Z"
   },
   {
    "duration": 6,
    "start_time": "2024-06-27T20:34:54.285Z"
   },
   {
    "duration": 20,
    "start_time": "2024-06-27T20:34:54.295Z"
   },
   {
    "duration": 6,
    "start_time": "2024-06-27T20:34:54.318Z"
   },
   {
    "duration": 10,
    "start_time": "2024-06-27T20:34:54.328Z"
   },
   {
    "duration": 300,
    "start_time": "2024-06-27T20:34:54.341Z"
   },
   {
    "duration": 34,
    "start_time": "2024-06-27T20:34:54.644Z"
   },
   {
    "duration": 408,
    "start_time": "2024-06-27T20:34:54.681Z"
   },
   {
    "duration": 6,
    "start_time": "2024-06-27T20:34:55.092Z"
   },
   {
    "duration": 20,
    "start_time": "2024-06-27T20:34:55.101Z"
   },
   {
    "duration": 367,
    "start_time": "2024-06-27T20:34:55.124Z"
   },
   {
    "duration": 20,
    "start_time": "2024-06-27T20:34:55.494Z"
   },
   {
    "duration": 238379,
    "start_time": "2024-06-27T20:40:44.065Z"
   },
   {
    "duration": 4,
    "start_time": "2024-06-27T20:56:49.501Z"
   },
   {
    "duration": 11,
    "start_time": "2024-06-27T20:56:57.050Z"
   },
   {
    "duration": 7,
    "start_time": "2024-06-27T20:57:18.949Z"
   },
   {
    "duration": 332,
    "start_time": "2024-06-27T21:00:22.146Z"
   },
   {
    "duration": 1388,
    "start_time": "2024-06-27T21:01:25.165Z"
   },
   {
    "duration": 28,
    "start_time": "2024-06-27T21:01:26.557Z"
   },
   {
    "duration": 41,
    "start_time": "2024-06-27T21:01:26.588Z"
   },
   {
    "duration": 20,
    "start_time": "2024-06-27T21:01:26.635Z"
   },
   {
    "duration": 12,
    "start_time": "2024-06-27T21:01:26.661Z"
   },
   {
    "duration": 37,
    "start_time": "2024-06-27T21:01:26.676Z"
   },
   {
    "duration": 18,
    "start_time": "2024-06-27T21:01:26.716Z"
   },
   {
    "duration": 13,
    "start_time": "2024-06-27T21:01:26.737Z"
   },
   {
    "duration": 324,
    "start_time": "2024-06-27T21:01:26.753Z"
   },
   {
    "duration": 1601,
    "start_time": "2024-06-27T21:01:27.080Z"
   },
   {
    "duration": 0,
    "start_time": "2024-06-27T21:01:28.686Z"
   },
   {
    "duration": 0,
    "start_time": "2024-06-27T21:01:28.688Z"
   },
   {
    "duration": 0,
    "start_time": "2024-06-27T21:01:28.691Z"
   },
   {
    "duration": 0,
    "start_time": "2024-06-27T21:01:28.694Z"
   },
   {
    "duration": 0,
    "start_time": "2024-06-27T21:01:28.713Z"
   },
   {
    "duration": 0,
    "start_time": "2024-06-27T21:01:28.716Z"
   },
   {
    "duration": 0,
    "start_time": "2024-06-27T21:01:28.718Z"
   },
   {
    "duration": 0,
    "start_time": "2024-06-27T21:01:28.721Z"
   },
   {
    "duration": 0,
    "start_time": "2024-06-27T21:01:28.723Z"
   },
   {
    "duration": 0,
    "start_time": "2024-06-27T21:01:28.726Z"
   },
   {
    "duration": 0,
    "start_time": "2024-06-27T21:01:28.728Z"
   },
   {
    "duration": 0,
    "start_time": "2024-06-27T21:01:28.731Z"
   },
   {
    "duration": 0,
    "start_time": "2024-06-27T21:01:28.733Z"
   },
   {
    "duration": 0,
    "start_time": "2024-06-27T21:01:28.735Z"
   },
   {
    "duration": 0,
    "start_time": "2024-06-27T21:01:28.737Z"
   },
   {
    "duration": 0,
    "start_time": "2024-06-27T21:01:28.739Z"
   },
   {
    "duration": 0,
    "start_time": "2024-06-27T21:01:28.740Z"
   },
   {
    "duration": 32,
    "start_time": "2024-06-27T21:02:17.420Z"
   },
   {
    "duration": 1322,
    "start_time": "2024-06-27T21:02:24.430Z"
   },
   {
    "duration": 24,
    "start_time": "2024-06-27T21:02:25.757Z"
   },
   {
    "duration": 38,
    "start_time": "2024-06-27T21:02:25.784Z"
   },
   {
    "duration": 16,
    "start_time": "2024-06-27T21:02:25.828Z"
   },
   {
    "duration": 10,
    "start_time": "2024-06-27T21:02:25.849Z"
   },
   {
    "duration": 6,
    "start_time": "2024-06-27T21:02:25.862Z"
   },
   {
    "duration": 54,
    "start_time": "2024-06-27T21:02:25.871Z"
   },
   {
    "duration": 12,
    "start_time": "2024-06-27T21:02:25.930Z"
   },
   {
    "duration": 327,
    "start_time": "2024-06-27T21:02:25.945Z"
   },
   {
    "duration": 1596,
    "start_time": "2024-06-27T21:02:26.276Z"
   },
   {
    "duration": 0,
    "start_time": "2024-06-27T21:02:27.876Z"
   },
   {
    "duration": 0,
    "start_time": "2024-06-27T21:02:27.878Z"
   },
   {
    "duration": 0,
    "start_time": "2024-06-27T21:02:27.881Z"
   },
   {
    "duration": 1,
    "start_time": "2024-06-27T21:02:27.883Z"
   },
   {
    "duration": 0,
    "start_time": "2024-06-27T21:02:27.886Z"
   },
   {
    "duration": 0,
    "start_time": "2024-06-27T21:02:27.888Z"
   },
   {
    "duration": 0,
    "start_time": "2024-06-27T21:02:27.913Z"
   },
   {
    "duration": 0,
    "start_time": "2024-06-27T21:02:27.916Z"
   },
   {
    "duration": 0,
    "start_time": "2024-06-27T21:02:27.920Z"
   },
   {
    "duration": 0,
    "start_time": "2024-06-27T21:02:27.921Z"
   },
   {
    "duration": 0,
    "start_time": "2024-06-27T21:02:27.923Z"
   },
   {
    "duration": 0,
    "start_time": "2024-06-27T21:02:27.925Z"
   },
   {
    "duration": 0,
    "start_time": "2024-06-27T21:02:27.927Z"
   },
   {
    "duration": 0,
    "start_time": "2024-06-27T21:02:27.929Z"
   },
   {
    "duration": 0,
    "start_time": "2024-06-27T21:02:27.931Z"
   },
   {
    "duration": 0,
    "start_time": "2024-06-27T21:02:27.933Z"
   },
   {
    "duration": 0,
    "start_time": "2024-06-27T21:02:27.935Z"
   },
   {
    "duration": 4,
    "start_time": "2024-06-27T21:10:26.960Z"
   },
   {
    "duration": 24,
    "start_time": "2024-06-27T21:10:27.935Z"
   },
   {
    "duration": 18,
    "start_time": "2024-06-27T21:10:28.690Z"
   },
   {
    "duration": 16,
    "start_time": "2024-06-27T21:10:30.214Z"
   },
   {
    "duration": 11,
    "start_time": "2024-06-27T21:10:32.349Z"
   },
   {
    "duration": 6,
    "start_time": "2024-06-27T21:10:33.686Z"
   },
   {
    "duration": 15,
    "start_time": "2024-06-27T21:10:34.879Z"
   },
   {
    "duration": 6,
    "start_time": "2024-06-27T21:10:48.009Z"
   },
   {
    "duration": 7,
    "start_time": "2024-06-27T21:10:56.729Z"
   },
   {
    "duration": 16,
    "start_time": "2024-06-27T21:11:04.016Z"
   },
   {
    "duration": 12,
    "start_time": "2024-06-27T21:11:09.033Z"
   },
   {
    "duration": 262,
    "start_time": "2024-06-27T21:11:09.756Z"
   },
   {
    "duration": 262,
    "start_time": "2024-06-27T21:11:11.336Z"
   },
   {
    "duration": 275,
    "start_time": "2024-06-27T21:11:44.626Z"
   },
   {
    "duration": 6,
    "start_time": "2024-06-27T21:12:08.780Z"
   },
   {
    "duration": 3,
    "start_time": "2024-06-27T21:12:27.239Z"
   },
   {
    "duration": 1218,
    "start_time": "2024-06-27T21:12:48.361Z"
   },
   {
    "duration": 31,
    "start_time": "2024-06-27T21:12:49.583Z"
   },
   {
    "duration": 24,
    "start_time": "2024-06-27T21:12:49.616Z"
   },
   {
    "duration": 16,
    "start_time": "2024-06-27T21:12:49.643Z"
   },
   {
    "duration": 11,
    "start_time": "2024-06-27T21:12:49.664Z"
   },
   {
    "duration": 4,
    "start_time": "2024-06-27T21:12:49.714Z"
   },
   {
    "duration": 20,
    "start_time": "2024-06-27T21:12:49.721Z"
   },
   {
    "duration": 15,
    "start_time": "2024-06-27T21:12:49.745Z"
   },
   {
    "duration": 335,
    "start_time": "2024-06-27T21:12:49.764Z"
   },
   {
    "duration": 466,
    "start_time": "2024-06-27T21:12:50.102Z"
   },
   {
    "duration": 0,
    "start_time": "2024-06-27T21:12:50.572Z"
   },
   {
    "duration": 0,
    "start_time": "2024-06-27T21:12:50.574Z"
   },
   {
    "duration": 0,
    "start_time": "2024-06-27T21:12:50.576Z"
   },
   {
    "duration": 0,
    "start_time": "2024-06-27T21:12:50.578Z"
   },
   {
    "duration": 0,
    "start_time": "2024-06-27T21:12:50.580Z"
   },
   {
    "duration": 0,
    "start_time": "2024-06-27T21:12:50.582Z"
   },
   {
    "duration": 0,
    "start_time": "2024-06-27T21:12:50.584Z"
   },
   {
    "duration": 0,
    "start_time": "2024-06-27T21:12:50.586Z"
   },
   {
    "duration": 0,
    "start_time": "2024-06-27T21:12:50.588Z"
   },
   {
    "duration": 0,
    "start_time": "2024-06-27T21:12:50.613Z"
   },
   {
    "duration": 0,
    "start_time": "2024-06-27T21:12:50.614Z"
   },
   {
    "duration": 0,
    "start_time": "2024-06-27T21:12:50.617Z"
   },
   {
    "duration": 0,
    "start_time": "2024-06-27T21:12:50.618Z"
   },
   {
    "duration": 0,
    "start_time": "2024-06-27T21:12:50.621Z"
   },
   {
    "duration": 0,
    "start_time": "2024-06-27T21:12:50.623Z"
   },
   {
    "duration": 0,
    "start_time": "2024-06-27T21:12:50.624Z"
   },
   {
    "duration": 0,
    "start_time": "2024-06-27T21:12:50.627Z"
   },
   {
    "duration": 0,
    "start_time": "2024-06-27T21:12:50.629Z"
   },
   {
    "duration": 211,
    "start_time": "2024-06-27T21:13:02.742Z"
   },
   {
    "duration": 225,
    "start_time": "2024-06-27T21:13:16.710Z"
   },
   {
    "duration": 225,
    "start_time": "2024-06-27T21:13:27.354Z"
   },
   {
    "duration": 6,
    "start_time": "2024-06-27T21:13:38.509Z"
   },
   {
    "duration": 4,
    "start_time": "2024-06-27T21:13:38.519Z"
   },
   {
    "duration": 14,
    "start_time": "2024-06-27T21:13:38.526Z"
   },
   {
    "duration": 12,
    "start_time": "2024-06-27T21:13:38.543Z"
   },
   {
    "duration": 294,
    "start_time": "2024-06-27T21:13:38.561Z"
   },
   {
    "duration": 258,
    "start_time": "2024-06-27T21:13:38.859Z"
   },
   {
    "duration": 6,
    "start_time": "2024-06-27T21:13:39.120Z"
   },
   {
    "duration": 7,
    "start_time": "2024-06-27T21:13:39.130Z"
   },
   {
    "duration": 6,
    "start_time": "2024-06-27T21:13:39.140Z"
   },
   {
    "duration": 14,
    "start_time": "2024-06-27T21:13:39.149Z"
   },
   {
    "duration": 261,
    "start_time": "2024-06-27T21:13:39.213Z"
   },
   {
    "duration": 43,
    "start_time": "2024-06-27T21:13:39.477Z"
   },
   {
    "duration": 350,
    "start_time": "2024-06-27T21:13:39.523Z"
   },
   {
    "duration": 10,
    "start_time": "2024-06-27T21:13:39.879Z"
   },
   {
    "duration": 17,
    "start_time": "2024-06-27T21:13:39.892Z"
   },
   {
    "duration": 571,
    "start_time": "2024-06-27T21:13:39.913Z"
   },
   {
    "duration": 25,
    "start_time": "2024-06-27T21:13:40.488Z"
   },
   {
    "duration": 6,
    "start_time": "2024-06-27T21:38:35.555Z"
   },
   {
    "duration": 17,
    "start_time": "2024-06-27T21:38:36.346Z"
   },
   {
    "duration": 24,
    "start_time": "2024-06-27T21:38:39.399Z"
   },
   {
    "duration": 294,
    "start_time": "2024-06-27T21:38:39.559Z"
   },
   {
    "duration": 264,
    "start_time": "2024-06-27T21:38:39.858Z"
   },
   {
    "duration": 7,
    "start_time": "2024-06-27T21:38:40.125Z"
   },
   {
    "duration": 4,
    "start_time": "2024-06-27T21:38:40.306Z"
   },
   {
    "duration": 14,
    "start_time": "2024-06-27T21:38:40.490Z"
   },
   {
    "duration": 12,
    "start_time": "2024-06-27T21:38:41.917Z"
   },
   {
    "duration": 269,
    "start_time": "2024-06-27T21:38:42.098Z"
   },
   {
    "duration": 282,
    "start_time": "2024-06-27T21:38:42.372Z"
   },
   {
    "duration": 7,
    "start_time": "2024-06-27T21:38:42.657Z"
   },
   {
    "duration": 6,
    "start_time": "2024-06-27T21:38:42.668Z"
   },
   {
    "duration": 8,
    "start_time": "2024-06-27T21:38:43.051Z"
   },
   {
    "duration": 11,
    "start_time": "2024-06-27T21:38:43.354Z"
   },
   {
    "duration": 265,
    "start_time": "2024-06-27T21:38:43.506Z"
   },
   {
    "duration": 49,
    "start_time": "2024-06-27T21:38:43.775Z"
   },
   {
    "duration": 322,
    "start_time": "2024-06-27T21:38:43.829Z"
   },
   {
    "duration": 7,
    "start_time": "2024-06-27T21:38:44.155Z"
   },
   {
    "duration": 14,
    "start_time": "2024-06-27T21:38:44.298Z"
   },
   {
    "duration": 365,
    "start_time": "2024-06-27T21:38:44.506Z"
   },
   {
    "duration": 7,
    "start_time": "2024-06-27T21:38:45.610Z"
   },
   {
    "duration": 315,
    "start_time": "2024-06-27T21:39:40.748Z"
   },
   {
    "duration": 330,
    "start_time": "2024-06-27T21:42:07.765Z"
   },
   {
    "duration": 359,
    "start_time": "2024-06-27T21:42:13.486Z"
   },
   {
    "duration": 300,
    "start_time": "2024-06-27T21:43:00.485Z"
   },
   {
    "duration": 327,
    "start_time": "2024-06-27T21:43:05.477Z"
   },
   {
    "duration": 349,
    "start_time": "2024-06-27T21:44:01.239Z"
   },
   {
    "duration": 1320,
    "start_time": "2024-06-27T21:45:49.214Z"
   },
   {
    "duration": 31,
    "start_time": "2024-06-27T21:45:50.540Z"
   },
   {
    "duration": 39,
    "start_time": "2024-06-27T21:45:50.574Z"
   },
   {
    "duration": 19,
    "start_time": "2024-06-27T21:45:50.619Z"
   },
   {
    "duration": 12,
    "start_time": "2024-06-27T21:45:50.642Z"
   },
   {
    "duration": 10,
    "start_time": "2024-06-27T21:45:50.657Z"
   },
   {
    "duration": 55,
    "start_time": "2024-06-27T21:45:50.670Z"
   },
   {
    "duration": 14,
    "start_time": "2024-06-27T21:45:50.727Z"
   },
   {
    "duration": 384,
    "start_time": "2024-06-27T21:45:50.745Z"
   },
   {
    "duration": 267,
    "start_time": "2024-06-27T21:45:51.139Z"
   },
   {
    "duration": 10,
    "start_time": "2024-06-27T21:45:51.413Z"
   },
   {
    "duration": 5,
    "start_time": "2024-06-27T21:45:51.426Z"
   },
   {
    "duration": 13,
    "start_time": "2024-06-27T21:45:51.434Z"
   },
   {
    "duration": 14,
    "start_time": "2024-06-27T21:45:51.450Z"
   },
   {
    "duration": 361,
    "start_time": "2024-06-27T21:45:51.514Z"
   },
   {
    "duration": 310,
    "start_time": "2024-06-27T21:45:51.878Z"
   },
   {
    "duration": 17,
    "start_time": "2024-06-27T21:45:52.195Z"
   },
   {
    "duration": 7,
    "start_time": "2024-06-27T21:45:52.215Z"
   },
   {
    "duration": 7,
    "start_time": "2024-06-27T21:45:52.225Z"
   },
   {
    "duration": 12,
    "start_time": "2024-06-27T21:45:52.236Z"
   },
   {
    "duration": 327,
    "start_time": "2024-06-27T21:45:52.251Z"
   },
   {
    "duration": 43,
    "start_time": "2024-06-27T21:45:52.583Z"
   },
   {
    "duration": 418,
    "start_time": "2024-06-27T21:45:52.632Z"
   },
   {
    "duration": 8,
    "start_time": "2024-06-27T21:45:53.054Z"
   },
   {
    "duration": 17,
    "start_time": "2024-06-27T21:45:53.065Z"
   },
   {
    "duration": 409,
    "start_time": "2024-06-27T21:45:53.088Z"
   },
   {
    "duration": 18,
    "start_time": "2024-06-27T21:45:53.501Z"
   },
   {
    "duration": 8,
    "start_time": "2024-06-27T21:46:53.945Z"
   },
   {
    "duration": 871,
    "start_time": "2024-06-27T21:47:55.058Z"
   },
   {
    "duration": 386,
    "start_time": "2024-06-27T21:48:20.650Z"
   },
   {
    "duration": 307,
    "start_time": "2024-06-27T21:48:51.663Z"
   },
   {
    "duration": 303,
    "start_time": "2024-06-27T21:50:06.314Z"
   },
   {
    "duration": 12,
    "start_time": "2024-06-27T21:50:11.237Z"
   },
   {
    "duration": 9,
    "start_time": "2024-06-27T21:50:12.263Z"
   },
   {
    "duration": 7,
    "start_time": "2024-06-27T21:50:24.161Z"
   },
   {
    "duration": 11,
    "start_time": "2024-06-27T21:50:26.114Z"
   },
   {
    "duration": 320,
    "start_time": "2024-06-27T21:50:58.301Z"
   },
   {
    "duration": 289,
    "start_time": "2024-06-27T21:51:30.871Z"
   },
   {
    "duration": 292,
    "start_time": "2024-06-27T21:51:31.206Z"
   },
   {
    "duration": 330,
    "start_time": "2024-06-27T21:51:53.073Z"
   },
   {
    "duration": 12,
    "start_time": "2024-06-27T21:52:05.720Z"
   },
   {
    "duration": 356,
    "start_time": "2024-06-27T21:52:13.239Z"
   },
   {
    "duration": 34,
    "start_time": "2024-06-27T21:52:16.605Z"
   },
   {
    "duration": 385,
    "start_time": "2024-06-27T21:52:55.791Z"
   },
   {
    "duration": 10,
    "start_time": "2024-06-27T21:53:05.856Z"
   },
   {
    "duration": 17,
    "start_time": "2024-06-27T21:53:11.749Z"
   },
   {
    "duration": 557,
    "start_time": "2024-06-27T21:53:48.146Z"
   },
   {
    "duration": 11,
    "start_time": "2024-06-27T21:53:51.594Z"
   },
   {
    "duration": 452,
    "start_time": "2024-06-27T21:54:28.839Z"
   },
   {
    "duration": 1300,
    "start_time": "2024-06-27T21:55:44.479Z"
   },
   {
    "duration": 34,
    "start_time": "2024-06-27T21:55:45.783Z"
   },
   {
    "duration": 26,
    "start_time": "2024-06-27T21:55:45.820Z"
   },
   {
    "duration": 21,
    "start_time": "2024-06-27T21:55:45.850Z"
   },
   {
    "duration": 12,
    "start_time": "2024-06-27T21:55:45.912Z"
   },
   {
    "duration": 7,
    "start_time": "2024-06-27T21:55:45.928Z"
   },
   {
    "duration": 19,
    "start_time": "2024-06-27T21:55:45.938Z"
   },
   {
    "duration": 51,
    "start_time": "2024-06-27T21:55:45.961Z"
   },
   {
    "duration": 340,
    "start_time": "2024-06-27T21:55:46.016Z"
   },
   {
    "duration": 254,
    "start_time": "2024-06-27T21:55:46.360Z"
   },
   {
    "duration": 9,
    "start_time": "2024-06-27T21:55:46.619Z"
   },
   {
    "duration": 5,
    "start_time": "2024-06-27T21:55:46.631Z"
   },
   {
    "duration": 10,
    "start_time": "2024-06-27T21:55:46.640Z"
   },
   {
    "duration": 11,
    "start_time": "2024-06-27T21:55:46.656Z"
   },
   {
    "duration": 374,
    "start_time": "2024-06-27T21:55:46.714Z"
   },
   {
    "duration": 320,
    "start_time": "2024-06-27T21:55:47.095Z"
   },
   {
    "duration": 12,
    "start_time": "2024-06-27T21:55:47.419Z"
   },
   {
    "duration": 9,
    "start_time": "2024-06-27T21:55:47.435Z"
   },
   {
    "duration": 7,
    "start_time": "2024-06-27T21:55:47.447Z"
   },
   {
    "duration": 11,
    "start_time": "2024-06-27T21:55:47.457Z"
   },
   {
    "duration": 332,
    "start_time": "2024-06-27T21:55:47.514Z"
   },
   {
    "duration": 38,
    "start_time": "2024-06-27T21:55:47.852Z"
   },
   {
    "duration": 406,
    "start_time": "2024-06-27T21:55:47.911Z"
   },
   {
    "duration": 12,
    "start_time": "2024-06-27T21:55:48.320Z"
   },
   {
    "duration": 16,
    "start_time": "2024-06-27T21:55:48.336Z"
   },
   {
    "duration": 500,
    "start_time": "2024-06-27T21:55:48.355Z"
   },
   {
    "duration": 11,
    "start_time": "2024-06-27T21:55:48.859Z"
   },
   {
    "duration": 5112,
    "start_time": "2024-06-28T13:51:14.500Z"
   },
   {
    "duration": 36,
    "start_time": "2024-06-28T13:51:19.615Z"
   },
   {
    "duration": 22,
    "start_time": "2024-06-28T13:51:19.654Z"
   },
   {
    "duration": 34,
    "start_time": "2024-06-28T13:51:19.679Z"
   },
   {
    "duration": 11,
    "start_time": "2024-06-28T13:51:19.718Z"
   },
   {
    "duration": 6,
    "start_time": "2024-06-28T13:51:19.731Z"
   },
   {
    "duration": 16,
    "start_time": "2024-06-28T13:51:19.740Z"
   },
   {
    "duration": 12,
    "start_time": "2024-06-28T13:51:19.801Z"
   },
   {
    "duration": 329,
    "start_time": "2024-06-28T13:51:19.816Z"
   },
   {
    "duration": 253,
    "start_time": "2024-06-28T13:51:20.149Z"
   },
   {
    "duration": 9,
    "start_time": "2024-06-28T13:51:20.405Z"
   },
   {
    "duration": 4,
    "start_time": "2024-06-28T13:51:20.417Z"
   },
   {
    "duration": 11,
    "start_time": "2024-06-28T13:51:20.424Z"
   },
   {
    "duration": 11,
    "start_time": "2024-06-28T13:51:20.441Z"
   },
   {
    "duration": 334,
    "start_time": "2024-06-28T13:51:20.455Z"
   },
   {
    "duration": 288,
    "start_time": "2024-06-28T13:51:20.792Z"
   },
   {
    "duration": 19,
    "start_time": "2024-06-28T13:51:21.083Z"
   },
   {
    "duration": 9,
    "start_time": "2024-06-28T13:51:21.105Z"
   },
   {
    "duration": 6,
    "start_time": "2024-06-28T13:51:21.117Z"
   },
   {
    "duration": 11,
    "start_time": "2024-06-28T13:51:21.127Z"
   },
   {
    "duration": 350,
    "start_time": "2024-06-28T13:51:21.141Z"
   },
   {
    "duration": 37,
    "start_time": "2024-06-28T13:51:21.494Z"
   },
   {
    "duration": 415,
    "start_time": "2024-06-28T13:51:21.535Z"
   },
   {
    "duration": 10,
    "start_time": "2024-06-28T13:51:21.954Z"
   },
   {
    "duration": 15,
    "start_time": "2024-06-28T13:51:21.967Z"
   },
   {
    "duration": 459,
    "start_time": "2024-06-28T13:51:21.985Z"
   },
   {
    "duration": 11,
    "start_time": "2024-06-28T13:51:22.446Z"
   }
  ],
  "kernelspec": {
   "display_name": "base",
   "language": "python",
   "name": "python3"
  },
  "language_info": {
   "codemirror_mode": {
    "name": "ipython",
    "version": 3
   },
   "file_extension": ".py",
   "mimetype": "text/x-python",
   "name": "python",
   "nbconvert_exporter": "python",
   "pygments_lexer": "ipython3",
   "version": "3.11.7"
  },
  "toc": {
   "base_numbering": 1,
   "nav_menu": {},
   "number_sections": true,
   "sideBar": true,
   "skip_h1_title": true,
   "title_cell": "Table of Contents",
   "title_sidebar": "Contents",
   "toc_cell": false,
   "toc_position": {},
   "toc_section_display": true,
   "toc_window_display": false
  }
 },
 "nbformat": 4,
 "nbformat_minor": 2
}
